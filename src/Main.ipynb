{
 "cells": [
  {
   "cell_type": "markdown",
   "id": "b44d9e9f",
   "metadata": {},
   "source": [
    "# Libraries"
   ]
  },
  {
   "cell_type": "code",
   "execution_count": 1,
   "id": "ac0b79b1",
   "metadata": {},
   "outputs": [],
   "source": [
    "#Importar Bibliotecas\n",
    "\n",
    "import pandas as pd\n",
    "import numpy as np\n",
    "import re\n",
    "\n",
    "\n",
    "import warnings\n",
    "warnings.filterwarnings(\"ignore\")"
   ]
  },
  {
   "cell_type": "markdown",
   "id": "71c9cd51",
   "metadata": {},
   "source": [
    " # Documentation"
   ]
  },
  {
   "cell_type": "code",
   "execution_count": null,
   "id": "355c969d",
   "metadata": {},
   "outputs": [],
   "source": [
    "# Importar archivos\n",
    "df_health = pd.read_csv('../data/HNP_StatsData Alfonso-Copy1.csv')\n",
    "df_seaice = pd.read_csv('../data/seaice.csv')\n",
    "df_temp = pd.read_csv('../data/GlobalLandTemperaturesByCountry.csv')\n",
    "df_temp_change = pd.read_csv('../data/Temperatura_cambio.csv')\n",
    "df_fires = pd.read_csv('../data/fires.csv')\n",
    "df_iso = pd.read_csv('../data/iso.csv')\n",
    "df_agri = pd.read_csv('../data/Agricultura.csv')\n",
    "df_emissions_origen = pd.read_csv('../data/Emisiones_origen.csv')\n",
    "df_emisiones = pd.read_csv('../data/owid-co2-data-Copy1.csv')"
   ]
  },
  {
   "cell_type": "markdown",
   "id": "1fefc326",
   "metadata": {},
   "source": [
    "# Cleaning df_health"
   ]
  },
  {
   "cell_type": "code",
   "execution_count": null,
   "id": "3ad1f836",
   "metadata": {},
   "outputs": [],
   "source": [
    "#selección de todas las filas que contengan los indicadores que me interesan\n",
    "\n",
    "df_population = df_health[df_health['Indicator Name'].isin(['Urban population (% of total population)','Urban population growth (annual %)','Rural population (% of total population)', 'Rural population growth (annual %)', 'Population growth (annual %)', 'Population, total'])]\n",
    "df_health_indicators = df_health[df_health['Indicator Name'].isin(['Treatment for hypertension (% of adults ages 30-79 with hypertension)',\\\n",
    "                                                                   'Total alcohol consumption per capita (liters of pure alcohol, projected estimates, 15+ years of age)',\\\n",
    "                                                                   'Suicide mortality rate (per 100,000 population)','People using at least basic drinking water services (% of population)', \\\n",
    "                                                                   'People using safely managed sanitation services (% of population)',\\\n",
    "                                                                   'Number of surgical procedures (per 100,000 population)',\\\n",
    "                                                                   'Mortality rate attributed to unsafe water, unsafe sanitation and lack of hygiene (per 100,000 population)',\\\n",
    "                                                                   'Mortality rate attributed to household and ambient air pollution (per 100,000 population)',\\\n",
    "                                                                   'Human capital index (HCI) (scale 0-1)', 'External health expenditure (% of current health expenditure)',\\\n",
    "                                                                   'Current health expenditure (% of GDP)', 'Current health expenditure per capita (current US$)',\\\n",
    "                                                                   'Domestic general government health expenditure (% of GDP)', 'Prevalence of overweight (% of adults)'])]\n"
   ]
  },
  {
   "cell_type": "code",
   "execution_count": null,
   "id": "8b17081d",
   "metadata": {},
   "outputs": [],
   "source": [
    "#Eliminar columnas que no me interesan\n",
    "df_population = df_population.drop(['Unnamed: 66','Indicator Code'], axis = 1)\n",
    "df_health_indicators = df_health_indicators.drop(['Unnamed: 66','Indicator Code'], axis = 1)"
   ]
  },
  {
   "cell_type": "code",
   "execution_count": null,
   "id": "fe866d00",
   "metadata": {},
   "outputs": [],
   "source": [
    "df_population.head(3)"
   ]
  },
  {
   "cell_type": "code",
   "execution_count": null,
   "id": "7e6b0367",
   "metadata": {},
   "outputs": [],
   "source": [
    "df_health_indicators.head(3)"
   ]
  },
  {
   "cell_type": "code",
   "execution_count": null,
   "id": "cbdca833",
   "metadata": {},
   "outputs": [],
   "source": [
    "#Reorganizar los datos dejando 'Year' como columna\n",
    "df_population = df_population.melt(id_vars = ['Country Name', 'Country Code', 'Indicator Name']).rename({'variable': 'Year'}, axis=1 )\n",
    "df_health_indicators = df_health_indicators.melt(id_vars = ['Country Name', 'Country Code', 'Indicator Name']).rename({'variable': 'Year'}, axis=1 )"
   ]
  },
  {
   "cell_type": "code",
   "execution_count": null,
   "id": "c76cb4ad",
   "metadata": {},
   "outputs": [],
   "source": [
    "df_population.head()"
   ]
  },
  {
   "cell_type": "code",
   "execution_count": null,
   "id": "ae6450f5",
   "metadata": {},
   "outputs": [],
   "source": [
    "df_health_indicators.head()"
   ]
  },
  {
   "cell_type": "markdown",
   "id": "fe4c41f5",
   "metadata": {},
   "source": [
    "#### Data Population and health indicators"
   ]
  },
  {
   "cell_type": "code",
   "execution_count": null,
   "id": "e235a486",
   "metadata": {},
   "outputs": [],
   "source": [
    "df_population.to_csv('../data/df_population.csv')"
   ]
  },
  {
   "cell_type": "code",
   "execution_count": null,
   "id": "e3687188",
   "metadata": {},
   "outputs": [],
   "source": [
    "df_health_indicators.to_csv('../data/df_health_indicators.csv')"
   ]
  },
  {
   "cell_type": "markdown",
   "id": "85dd4f04",
   "metadata": {},
   "source": [
    "# Cleaning df_Seaice"
   ]
  },
  {
   "cell_type": "code",
   "execution_count": null,
   "id": "3b31652f",
   "metadata": {},
   "outputs": [],
   "source": [
    "df_seaice.head()"
   ]
  },
  {
   "cell_type": "code",
   "execution_count": null,
   "id": "d975940b",
   "metadata": {},
   "outputs": [],
   "source": [
    "#Eliminar columnas que no me aportan valor\n",
    "df_seaice = df_seaice.drop(['    Missing', ' Day', ' Month', ' Source Data'], axis = 1)"
   ]
  },
  {
   "cell_type": "code",
   "execution_count": null,
   "id": "c2fe7b01",
   "metadata": {},
   "outputs": [],
   "source": [
    "# Renombrar la columna '     Extent' a 'Extent'\n",
    "df_seaice = df_seaice.rename(columns={'     Extent': 'Extent'})\n"
   ]
  },
  {
   "cell_type": "code",
   "execution_count": null,
   "id": "f0ecf8a5",
   "metadata": {},
   "outputs": [],
   "source": [
    "#Agrupar por media y año, y reducir la tabla a 1 registro por año\n",
    "mean_year = df_seaice.groupby('Year')['Extent'].mean()\n",
    "df_mean_year_ice = pd.DataFrame({'Year': mean_year.index, 'Media': mean_year.values})\n",
    "df_mean_year_ice = df_mean_year_ice.rename(columns={'Media': 'Ice Extent'})"
   ]
  },
  {
   "cell_type": "code",
   "execution_count": null,
   "id": "15691f62",
   "metadata": {},
   "outputs": [],
   "source": [
    "df_mean_year_ice.head()\n"
   ]
  },
  {
   "cell_type": "markdown",
   "id": "a7784437",
   "metadata": {},
   "source": [
    "#### Seaice Mean"
   ]
  },
  {
   "cell_type": "code",
   "execution_count": null,
   "id": "edc1d448",
   "metadata": {},
   "outputs": [],
   "source": [
    "df_mean_year_ice.to_csv('../data/df_Deshielo_Media')"
   ]
  },
  {
   "cell_type": "markdown",
   "id": "5d9d8f90",
   "metadata": {},
   "source": [
    "# Cleaning df_temp"
   ]
  },
  {
   "cell_type": "code",
   "execution_count": null,
   "id": "e018d2c5",
   "metadata": {},
   "outputs": [],
   "source": [
    "df_temp.head()"
   ]
  },
  {
   "cell_type": "code",
   "execution_count": null,
   "id": "cbdc9cf7",
   "metadata": {},
   "outputs": [],
   "source": [
    "# Eliminar los registros por debajo de 1960\n",
    "df_temp = df_temp[df_temp['dt'].str[:4].astype(int) >= 1960]"
   ]
  },
  {
   "cell_type": "code",
   "execution_count": null,
   "id": "bc2da54e",
   "metadata": {},
   "outputs": [],
   "source": [
    "df_temp.head()"
   ]
  },
  {
   "cell_type": "code",
   "execution_count": null,
   "id": "4f752e63",
   "metadata": {},
   "outputs": [],
   "source": [
    "# Convertir la columna 'dt' a tipo datetime\n",
    "df_temp['dt'] = pd.to_datetime(df_temp['dt'])\n",
    "\n",
    "# Extraer el año de la columna 'dt'\n",
    "df_temp['Year'] = df_temp['dt'].dt.year\n",
    "\n",
    "# Eliminar la columna 'dt'\n",
    "df_temp = df_temp.drop('dt', axis=1)\n"
   ]
  },
  {
   "cell_type": "code",
   "execution_count": null,
   "id": "42ee03d8",
   "metadata": {},
   "outputs": [],
   "source": [
    "#Reindexar las columnas\n",
    "df_temp = df_temp.reindex(columns = ['Year','Country', 'AverageTemperature', 'AverageTemperatureUncertainty' ])"
   ]
  },
  {
   "cell_type": "markdown",
   "id": "d98d3df7",
   "metadata": {},
   "source": [
    "df_temp.head()"
   ]
  },
  {
   "cell_type": "code",
   "execution_count": null,
   "id": "f7d00c70",
   "metadata": {},
   "outputs": [],
   "source": [
    "# Agrupar por year y country, encontrar la media para cada año y cada país y asignar valores.\n",
    "df_temp = df_temp.groupby(['Year', 'Country']).agg({'AverageTemperature': 'mean', 'AverageTemperatureUncertainty': 'mean'}).reset_index()\n",
    "df_temp = df_temp.rename(columns={'AverageTemperature': 'Average_Temperature'})\n",
    "df_temp = df_temp.rename(columns={'AverageTemperatureUncertainty': 'Average_Temperature_Uncertainty'})\n"
   ]
  },
  {
   "cell_type": "code",
   "execution_count": null,
   "id": "9211e858",
   "metadata": {},
   "outputs": [],
   "source": [
    "df_temp.head()"
   ]
  },
  {
   "cell_type": "code",
   "execution_count": null,
   "id": "d7a7d368",
   "metadata": {},
   "outputs": [],
   "source": [
    "df_temp.to_csv('../data/df_temp_media')"
   ]
  },
  {
   "cell_type": "markdown",
   "id": "cc5620b9",
   "metadata": {},
   "source": [
    "# Cleaning df_temp_change"
   ]
  },
  {
   "cell_type": "code",
   "execution_count": null,
   "id": "b6494bd6",
   "metadata": {},
   "outputs": [],
   "source": [
    "df_temp_change.head()"
   ]
  },
  {
   "cell_type": "code",
   "execution_count": null,
   "id": "9e0af0cb",
   "metadata": {},
   "outputs": [],
   "source": [
    "# Eliminar columnas que no me interesan\n",
    "df_temp_change = df_temp_change.drop(['Unit','Months', 'Domain','Domain Code', 'Area Code (M49)', 'Element Code', 'Months Code', 'Year Code', 'Flag'], axis = 1)"
   ]
  },
  {
   "cell_type": "code",
   "execution_count": null,
   "id": "f788f813",
   "metadata": {},
   "outputs": [],
   "source": [
    "df_temp_change.head()"
   ]
  },
  {
   "cell_type": "code",
   "execution_count": null,
   "id": "524cf67b",
   "metadata": {},
   "outputs": [],
   "source": [
    "#Reordenar las columnas\n",
    "df_temp_change = df_temp_change.reindex(columns = ['Year', 'Area', 'Element', 'Value', 'Flag Description'])"
   ]
  },
  {
   "cell_type": "code",
   "execution_count": null,
   "id": "4d722af7",
   "metadata": {},
   "outputs": [],
   "source": [
    "#Renombrar las columnas\n",
    "df_temp_change = df_temp_change.rename(columns = {'Area' : 'Country', 'Flag Description' : 'Description'})"
   ]
  },
  {
   "cell_type": "code",
   "execution_count": null,
   "id": "9374bd90",
   "metadata": {},
   "outputs": [],
   "source": [
    "# Añadir etiqueta de valor a value\n",
    "df_temp_change[\"Value\"] = df_temp_change[\"Value\"].astype(str) + \" ºC\"\n"
   ]
  },
  {
   "cell_type": "code",
   "execution_count": null,
   "id": "99cbb1a0",
   "metadata": {},
   "outputs": [],
   "source": [
    "df_temp_change.head()"
   ]
  },
  {
   "cell_type": "code",
   "execution_count": null,
   "id": "70007a99",
   "metadata": {},
   "outputs": [],
   "source": [
    "df_temp_change.to_csv('../data/df_temp_change.csv')"
   ]
  },
  {
   "cell_type": "markdown",
   "id": "e82bc134",
   "metadata": {},
   "source": [
    "# Cleaning df_fires"
   ]
  },
  {
   "cell_type": "code",
   "execution_count": null,
   "id": "1caf005b",
   "metadata": {},
   "outputs": [],
   "source": [
    "df_fires.head()"
   ]
  },
  {
   "cell_type": "code",
   "execution_count": null,
   "id": "c5ec19ad",
   "metadata": {},
   "outputs": [],
   "source": [
    "df_fires = df_fires.drop(['Description', 'Element',  'Domain', 'Area Code (M49)', 'Element Code','Source', 'Unit', 'Flag', 'Item Code', 'Year Code', 'Source Code', 'Note', 'Domain Code'], axis = 1)"
   ]
  },
  {
   "cell_type": "code",
   "execution_count": null,
   "id": "7e588bd9",
   "metadata": {},
   "outputs": [],
   "source": [
    "# Añadir etiqueta de valor a value\n",
    "df_fires[\"Value\"] = df_fires[\"Value\"].astype(str) + \" Ha\""
   ]
  },
  {
   "cell_type": "code",
   "execution_count": null,
   "id": "ff4d04ab",
   "metadata": {},
   "outputs": [],
   "source": [
    "df_fires.head()"
   ]
  },
  {
   "cell_type": "code",
   "execution_count": null,
   "id": "85286f6d",
   "metadata": {},
   "outputs": [],
   "source": [
    "df_fires = df_fires.rename(columns = {'Area' : 'Country'})\n",
    "df_fires = df_fires.reindex(columns = ['Year', 'Country', 'Value'])"
   ]
  },
  {
   "cell_type": "code",
   "execution_count": null,
   "id": "868254aa",
   "metadata": {},
   "outputs": [],
   "source": [
    "df_fires.head()"
   ]
  },
  {
   "cell_type": "code",
   "execution_count": null,
   "id": "48d9b3f1",
   "metadata": {},
   "outputs": [],
   "source": [
    "df_fires['Description'].unique()"
   ]
  },
  {
   "cell_type": "code",
   "execution_count": null,
   "id": "66c9fc95",
   "metadata": {},
   "outputs": [],
   "source": []
  }
 ],
 "metadata": {
  "kernelspec": {
   "display_name": "Python 3 (ipykernel)",
   "language": "python",
   "name": "python3"
  },
  "language_info": {
   "codemirror_mode": {
    "name": "ipython",
    "version": 3
   },
   "file_extension": ".py",
   "mimetype": "text/x-python",
   "name": "python",
   "nbconvert_exporter": "python",
   "pygments_lexer": "ipython3",
   "version": "3.9.7"
  }
 },
 "nbformat": 4,
 "nbformat_minor": 5
}
