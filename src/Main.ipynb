{
 "cells": [
  {
   "cell_type": "markdown",
   "id": "b44d9e9f",
   "metadata": {},
   "source": [
    "# Bibliotecas"
   ]
  },
  {
   "cell_type": "code",
   "execution_count": 1,
   "id": "ac0b79b1",
   "metadata": {},
   "outputs": [],
   "source": [
    "#Importar Bibliotecas\n",
    "\n",
    "import pandas as pd\n",
    "import numpy as np\n",
    "import re\n",
    "\n",
    "\n",
    "import warnings\n",
    "warnings.filterwarnings(\"ignore\")"
   ]
  },
  {
   "cell_type": "markdown",
   "id": "71c9cd51",
   "metadata": {},
   "source": [
    " # Documentación"
   ]
  },
  {
   "cell_type": "code",
   "execution_count": 2,
   "id": "355c969d",
   "metadata": {},
   "outputs": [],
   "source": [
    "# Importar archivos\n",
    "df_health = pd.read_csv('../data/HNP_StatsData Alfonso-Copy1.csv')\n",
    "df_seaice = pd.read_csv('../data/seaice.csv')\n",
    "df_temp = pd.read_csv('../data/GlobalLandTemperaturesByCountry.csv')\n",
    "df_temp_change = pd.read_csv('../data/Temperatura_cambio.csv')\n",
    "df_fires = pd.read_csv('../data/fires.csv')\n",
    "df_iso = pd.read_csv('../data/iso.csv')\n",
    "df_agri = pd.read_csv('../data/Agricultura.csv')\n",
    "df_emissions_origen = pd.read_csv('../data/Emisiones_origen.csv')\n",
    "df_emisiones = pd.read_csv('../data/owid-co2-data-Copy1.csv')"
   ]
  },
  {
   "cell_type": "markdown",
   "id": "1fefc326",
   "metadata": {},
   "source": [
    "# Limpieza df_health"
   ]
  },
  {
   "cell_type": "code",
   "execution_count": 4,
   "id": "3ad1f836",
   "metadata": {},
   "outputs": [],
   "source": [
    "#selección de todas las filas que contengan los indicadores que me interesan\n",
    "\n",
    "df_population = df_health[df_health['Indicator Name'].isin(['Urban population (% of total population)','Urban population growth (annual %)','Rural population (% of total population)', 'Rural population growth (annual %)', 'Population growth (annual %)', 'Population, total'])]\n",
    "df_health_indicators = df_health[df_health['Indicator Name'].isin(['Treatment for hypertension (% of adults ages 30-79 with hypertension)',\\\n",
    "                                                                   'Total alcohol consumption per capita (liters of pure alcohol, projected estimates, 15+ years of age)',\\\n",
    "                                                                   'Suicide mortality rate (per 100,000 population)','People using at least basic drinking water services (% of population)', \\\n",
    "                                                                   'People using safely managed sanitation services (% of population)',\\\n",
    "                                                                   'Number of surgical procedures (per 100,000 population)',\\\n",
    "                                                                   'Mortality rate attributed to unsafe water, unsafe sanitation and lack of hygiene (per 100,000 population)',\\\n",
    "                                                                   'Mortality rate attributed to household and ambient air pollution (per 100,000 population)',\\\n",
    "                                                                   'Human capital index (HCI) (scale 0-1)', 'External health expenditure (% of current health expenditure)',\\\n",
    "                                                                   'Current health expenditure (% of GDP)', 'Current health expenditure per capita (current US$)',\\\n",
    "                                                                   'Domestic general government health expenditure (% of GDP)', 'Prevalence of overweight (% of adults)'])]\n"
   ]
  },
  {
   "cell_type": "code",
   "execution_count": 5,
   "id": "8b17081d",
   "metadata": {},
   "outputs": [],
   "source": [
    "#Eliminar columnas que no me interesan\n",
    "df_population = df_population.drop(['Unnamed: 66','Indicator Code'], axis = 1)\n",
    "df_health_indicators = df_health_indicators.drop(['Unnamed: 66','Indicator Code'], axis = 1)"
   ]
  },
  {
   "cell_type": "code",
   "execution_count": 6,
   "id": "cbdca833",
   "metadata": {},
   "outputs": [],
   "source": [
    "#Reorganizar los datos dejando 'Year' como columna\n",
    "df_population = df_population.melt(id_vars = ['Country Name', 'Country Code', 'Indicator Name']).rename({'variable': 'Year'}, axis=1 )\n",
    "df_health_indicators = df_health_indicators.melt(id_vars = ['Country Name', 'Country Code', 'Indicator Name']).rename({'variable': 'Year'}, axis=1 )"
   ]
  },
  {
   "cell_type": "code",
   "execution_count": null,
   "id": "1dbfe48c",
   "metadata": {},
   "outputs": [],
   "source": []
  },
  {
   "cell_type": "code",
   "execution_count": null,
   "id": "ba58add9",
   "metadata": {},
   "outputs": [],
   "source": []
  }
 ],
 "metadata": {
  "kernelspec": {
   "display_name": "Python 3 (ipykernel)",
   "language": "python",
   "name": "python3"
  },
  "language_info": {
   "codemirror_mode": {
    "name": "ipython",
    "version": 3
   },
   "file_extension": ".py",
   "mimetype": "text/x-python",
   "name": "python",
   "nbconvert_exporter": "python",
   "pygments_lexer": "ipython3",
   "version": "3.9.7"
  }
 },
 "nbformat": 4,
 "nbformat_minor": 5
}
