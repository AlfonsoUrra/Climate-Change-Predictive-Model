{
 "cells": [
  {
   "cell_type": "markdown",
   "id": "b44d9e9f",
   "metadata": {},
   "source": [
    "# Libraries"
   ]
  },
  {
   "cell_type": "code",
   "execution_count": 1,
   "id": "ac0b79b1",
   "metadata": {},
   "outputs": [],
   "source": [
    "#Importar Bibliotecas\n",
    "\n",
    "import pandas as pd\n",
    "import numpy as np\n",
    "import re\n",
    "\n",
    "\n",
    "import warnings\n",
    "warnings.filterwarnings(\"ignore\")"
   ]
  },
  {
   "cell_type": "markdown",
   "id": "71c9cd51",
   "metadata": {},
   "source": [
    " # Documentation"
   ]
  },
  {
   "cell_type": "code",
   "execution_count": 2,
   "id": "355c969d",
   "metadata": {},
   "outputs": [],
   "source": [
    "# Importar archivos\n",
    "df_health = pd.read_csv('../data/HNP_StatsData Alfonso-Copy1.csv')\n",
    "df_seaice = pd.read_csv('../data/seaice.csv')\n",
    "df_temp = pd.read_csv('../data/GlobalLandTemperaturesByCountry.csv')\n",
    "df_temp_change = pd.read_csv('../data/Temperatura_cambio.csv')\n",
    "df_fires = pd.read_csv('../data/fires.csv')\n",
    "df_iso = pd.read_csv('../data/iso.csv')\n",
    "df_agri = pd.read_csv('../data/Agricultura.csv')\n",
    "df_emissions_origen = pd.read_csv('../data/Emisiones_origen.csv')\n",
    "df_emisiones = pd.read_csv('../data/owid-co2-data-Copy1.csv')"
   ]
  },
  {
   "cell_type": "markdown",
   "id": "1fefc326",
   "metadata": {},
   "source": [
    "# Cleaning df_health"
   ]
  },
  {
   "cell_type": "code",
   "execution_count": 3,
   "id": "3ad1f836",
   "metadata": {},
   "outputs": [],
   "source": [
    "#selección de todas las filas que contengan los indicadores que me interesan\n",
    "df_population = df_health[df_health['Indicator Name'].isin(['Urban population (% of total population)','Urban population growth (annual %)','Rural population (% of total population)', 'Rural population growth (annual %)', 'Population growth (annual %)', 'Population, total'])]\n",
    "df_health_indicators = df_health[df_health['Indicator Name'].isin(['Treatment for hypertension (% of adults ages 30-79 with hypertension)',\\\n",
    "                                                                   'Total alcohol consumption per capita (liters of pure alcohol, projected estimates, 15+ years of age)',\\\n",
    "                                                                   'Suicide mortality rate (per 100,000 population)','People using at least basic drinking water services (% of population)', \\\n",
    "                                                                   'People using safely managed sanitation services (% of population)',\\\n",
    "                                                                   'Number of surgical procedures (per 100,000 population)',\\\n",
    "                                                                   'Mortality rate attributed to unsafe water, unsafe sanitation and lack of hygiene (per 100,000 population)',\\\n",
    "                                                                   'Mortality rate attributed to household and ambient air pollution (per 100,000 population)',\\\n",
    "                                                                   'Human capital index (HCI) (scale 0-1)', 'External health expenditure (% of current health expenditure)',\\\n",
    "                                                                   'Current health expenditure (% of GDP)', 'Current health expenditure per capita (current US$)',\\\n",
    "                                                                   'Domestic general government health expenditure (% of GDP)', 'Prevalence of overweight (% of adults)'])]\n"
   ]
  },
  {
   "cell_type": "code",
   "execution_count": 4,
   "id": "8b17081d",
   "metadata": {},
   "outputs": [],
   "source": [
    "#Eliminar columnas que no me interesan\n",
    "df_population = df_population.drop(['Unnamed: 66','Indicator Code'], axis = 1)\n",
    "df_health_indicators = df_health_indicators.drop(['Unnamed: 66','Indicator Code'], axis = 1)"
   ]
  },
  {
   "cell_type": "code",
   "execution_count": 5,
   "id": "cbdca833",
   "metadata": {},
   "outputs": [],
   "source": [
    "#Reorganizar los datos dejando 'Year' como columna\n",
    "df_population = df_population.melt(id_vars = ['Country Name', 'Country Code', 'Indicator Name']).rename({'variable': 'Year'}, axis=1 )\n",
    "df_health_indicators = df_health_indicators.melt(id_vars = ['Country Name', 'Country Code', 'Indicator Name']).rename({'variable': 'Year'}, axis=1 )"
   ]
  },
  {
   "cell_type": "code",
   "execution_count": 6,
   "id": "63647d9d",
   "metadata": {},
   "outputs": [],
   "source": [
    "#Selección de datos para modelo\n",
    "df_health_indicators_model = df_health_indicators[(df_health_indicators['Indicator Name'] == 'Mortality rate attributed to household and ambient air pollution (per 100,000 population)') | \n",
    "                                            (df_health_indicators['Indicator Name'] == 'Prevalence of overweight (% of adults)') | \n",
    "                                            (df_health_indicators['Indicator Name'] == 'Suicide mortality rate (per 100,000 population)') |\n",
    "                                            (df_health_indicators['Indicator Name'] == 'Number of surgical procedures (per 100,000 population)') | \n",
    "                                            (df_health_indicators['Indicator Name'] == 'Treatment for hypertension (% of adults ages 30-79 with hypertension)')]"
   ]
  },
  {
   "cell_type": "code",
   "execution_count": 7,
   "id": "29c909ae",
   "metadata": {},
   "outputs": [],
   "source": [
    "#Selección de datos para modelo\n",
    "df_population_model = df_population[(df_population['Indicator Name'] == 'Urban population growth (annual %)') | \n",
    "              (df_population['Indicator Name'] == 'Rural population growth (annual %)')]\n"
   ]
  },
  {
   "cell_type": "code",
   "execution_count": 8,
   "id": "ec05f580",
   "metadata": {
    "scrolled": true
   },
   "outputs": [
    {
     "data": {
      "text/plain": [
       "array(['Africa Eastern and Southern', 'Africa Western and Central',\n",
       "       'Arab World', 'Caribbean small states',\n",
       "       'Central Europe and the Baltics', 'Early-demographic dividend',\n",
       "       'East Asia & Pacific',\n",
       "       'East Asia & Pacific (excluding high income)',\n",
       "       'East Asia & Pacific (IDA & IBRD countries)', 'Euro area',\n",
       "       'Europe & Central Asia',\n",
       "       'Europe & Central Asia (excluding high income)',\n",
       "       'Europe & Central Asia (IDA & IBRD countries)', 'European Union',\n",
       "       'Fragile and conflict affected situations',\n",
       "       'Heavily indebted poor countries (HIPC)', 'High income',\n",
       "       'IBRD only', 'IDA & IBRD total', 'IDA blend', 'IDA only',\n",
       "       'IDA total', 'Late-demographic dividend',\n",
       "       'Latin America & Caribbean',\n",
       "       'Latin America & Caribbean (excluding high income)',\n",
       "       'Latin America & the Caribbean (IDA & IBRD countries)',\n",
       "       'Least developed countries: UN classification',\n",
       "       'Low & middle income', 'Low income', 'Lower middle income',\n",
       "       'Middle East & North Africa',\n",
       "       'Middle East & North Africa (excluding high income)',\n",
       "       'Middle East & North Africa (IDA & IBRD countries)',\n",
       "       'Middle income', 'North America', 'Not classified', 'OECD members',\n",
       "       'Other small states', 'Pacific island small states',\n",
       "       'Post-demographic dividend', 'Pre-demographic dividend',\n",
       "       'Small states', 'South Asia', 'South Asia (IDA & IBRD)',\n",
       "       'Sub-Saharan Africa', 'Sub-Saharan Africa (excluding high income)',\n",
       "       'Sub-Saharan Africa (IDA & IBRD countries)', 'Upper middle income',\n",
       "       'World', 'Afghanistan', 'Albania', 'Algeria', 'American Samoa',\n",
       "       'Andorra', 'Angola', 'Antigua and Barbuda', 'Argentina', 'Armenia',\n",
       "       'Aruba', 'Australia', 'Austria', 'Azerbaijan', 'Bahamas, The',\n",
       "       'Bahrain', 'Bangladesh', 'Barbados', 'Belarus', 'Belgium',\n",
       "       'Belize', 'Benin', 'Bermuda', 'Bhutan', 'Bolivia',\n",
       "       'Bosnia and Herzegovina', 'Botswana', 'Brazil',\n",
       "       'British Virgin Islands', 'Brunei Darussalam', 'Bulgaria',\n",
       "       'Burkina Faso', 'Burundi', 'Cabo Verde', 'Cambodia', 'Cameroon',\n",
       "       'Canada', 'Cayman Islands', 'Central African Republic', 'Chad',\n",
       "       'Channel Islands', 'Chile', 'China', 'Colombia', 'Comoros',\n",
       "       'Congo, Dem. Rep.', 'Congo, Rep.', 'Costa Rica', \"Cote d'Ivoire\",\n",
       "       'Croatia', 'Cuba', 'Curacao', 'Cyprus', 'Czechia', 'Denmark',\n",
       "       'Djibouti', 'Dominica', 'Dominican Republic', 'Ecuador',\n",
       "       'Egypt, Arab Rep.', 'El Salvador', 'Equatorial Guinea', 'Eritrea',\n",
       "       'Estonia', 'Eswatini', 'Ethiopia', 'Faroe Islands', 'Fiji',\n",
       "       'Finland', 'France', 'French Polynesia', 'Gabon', 'Gambia, The',\n",
       "       'Georgia', 'Germany', 'Ghana', 'Gibraltar', 'Greece', 'Greenland',\n",
       "       'Grenada', 'Guam', 'Guatemala', 'Guinea', 'Guinea-Bissau',\n",
       "       'Guyana', 'Haiti', 'Honduras', 'Hong Kong SAR, China', 'Hungary',\n",
       "       'Iceland', 'India', 'Indonesia', 'Iran, Islamic Rep.', 'Iraq',\n",
       "       'Ireland', 'Isle of Man', 'Israel', 'Italy', 'Jamaica', 'Japan',\n",
       "       'Jordan', 'Kazakhstan', 'Kenya', 'Kiribati',\n",
       "       \"Korea, Dem. People's Rep.\", 'Korea, Rep.', 'Kosovo', 'Kuwait',\n",
       "       'Kyrgyz Republic', 'Lao PDR', 'Latvia', 'Lebanon', 'Lesotho',\n",
       "       'Liberia', 'Libya', 'Liechtenstein', 'Lithuania', 'Luxembourg',\n",
       "       'Macao SAR, China', 'Madagascar', 'Malawi', 'Malaysia', 'Maldives',\n",
       "       'Mali', 'Malta', 'Marshall Islands', 'Mauritania', 'Mauritius',\n",
       "       'Mexico', 'Micronesia, Fed. Sts.', 'Moldova', 'Monaco', 'Mongolia',\n",
       "       'Montenegro', 'Morocco', 'Mozambique', 'Myanmar', 'Namibia',\n",
       "       'Nauru', 'Nepal', 'Netherlands', 'New Caledonia', 'New Zealand',\n",
       "       'Nicaragua', 'Niger', 'Nigeria', 'North Macedonia',\n",
       "       'Northern Mariana Islands', 'Norway', 'Oman', 'Pakistan', 'Palau',\n",
       "       'Panama', 'Papua New Guinea', 'Paraguay', 'Peru', 'Philippines',\n",
       "       'Poland', 'Portugal', 'Puerto Rico', 'Qatar', 'Romania',\n",
       "       'Russian Federation', 'Rwanda', 'Samoa', 'San Marino',\n",
       "       'Sao Tome and Principe', 'Saudi Arabia', 'Senegal', 'Serbia',\n",
       "       'Seychelles', 'Sierra Leone', 'Singapore',\n",
       "       'Sint Maarten (Dutch part)', 'Slovak Republic', 'Slovenia',\n",
       "       'Solomon Islands', 'Somalia', 'South Africa', 'South Sudan',\n",
       "       'Spain', 'Sri Lanka', 'St. Kitts and Nevis', 'St. Lucia',\n",
       "       'St. Martin (French part)', 'St. Vincent and the Grenadines',\n",
       "       'Sudan', 'Suriname', 'Sweden', 'Switzerland',\n",
       "       'Syrian Arab Republic', 'Tajikistan', 'Tanzania', 'Thailand',\n",
       "       'Timor-Leste', 'Togo', 'Tonga', 'Trinidad and Tobago', 'Tunisia',\n",
       "       'Turkiye', 'Turkmenistan', 'Turks and Caicos Islands', 'Tuvalu',\n",
       "       'Uganda', 'Ukraine', 'United Arab Emirates', 'United Kingdom',\n",
       "       'United States', 'Uruguay', 'Uzbekistan', 'Vanuatu',\n",
       "       'Venezuela, RB', 'Vietnam', 'Virgin Islands (U.S.)',\n",
       "       'West Bank and Gaza', 'Yemen, Rep.', 'Zambia', 'Zimbabwe'],\n",
       "      dtype=object)"
      ]
     },
     "execution_count": 8,
     "metadata": {},
     "output_type": "execute_result"
    }
   ],
   "source": [
    "df_health_indicators['Country Name'].unique()"
   ]
  },
  {
   "cell_type": "code",
   "execution_count": 9,
   "id": "bfd62ba5",
   "metadata": {},
   "outputs": [],
   "source": [
    "countries_to_remove = ['Africa Eastern and Southern', 'Africa Western and Central', 'Arab World',\n",
    "                       'Caribbean small states', 'Central Europe and the Baltics', 'Early-demographic dividend',\n",
    "                       'East Asia & Pacific', 'East Asia & Pacific (excluding high income)',\n",
    "                       'East Asia & Pacific (IDA & IBRD countries)', 'Euro area', 'Europe & Central Asia',\n",
    "                       'Europe & Central Asia (excluding high income)', 'Europe & Central Asia (IDA & IBRD countries)',\n",
    "                       'European Union', 'Fragile and conflict affected situations', 'Heavily indebted poor countries (HIPC)',\n",
    "                       'High income', 'IBRD only', 'IDA & IBRD total', 'IDA blend', 'IDA only', 'IDA total',\n",
    "                       'Late-demographic dividend', 'Latin America & Caribbean', 'Latin America & Caribbean (excluding high income)',\n",
    "                       'Latin America & the Caribbean (IDA & IBRD countries)', 'Least developed countries: UN classification',\n",
    "                       'Low & middle income', 'Low income', 'Lower middle income', 'Middle East & North Africa',\n",
    "                       'Middle East & North Africa (excluding high income)', 'Middle East & North Africa (IDA & IBRD countries)',\n",
    "                       'Middle income', 'North America', 'Not classified', 'OECD members', 'Other small states',\n",
    "                       'Pacific island small states', 'Post-demographic dividend', 'Pre-demographic dividend',\n",
    "                       'Small states', 'South Asia', 'South Asia (IDA & IBRD)', 'Sub-Saharan Africa',\n",
    "                       'Sub-Saharan Africa (excluding high income)', 'Sub-Saharan Africa (IDA & IBRD countries)',\n",
    "                       'Upper middle income']\n",
    "\n",
    "# Crear un filtro booleano para las filas que NO contienen los países a eliminar\n",
    "filter = ~df_health_indicators['Country Name'].isin(countries_to_remove)\n",
    "\n",
    "# Aplicar el filtro al DataFrame original para obtener solo las filas que deseas mantener\n",
    "df_health_indicators = df_health_indicators[filter]\n"
   ]
  },
  {
   "cell_type": "code",
   "execution_count": 10,
   "id": "0104fbc1",
   "metadata": {},
   "outputs": [],
   "source": [
    "df_health_indicators = df_health_indicators.rename({'Country Name': 'Country', 'value' : 'Values','Indicator Name' : 'Indicators'},axis = 1)\n",
    "df_population = df_population.rename({'Country Name': 'Country', 'value' : 'Values', 'Indicator Name' : 'Indicators'},axis = 1)\n"
   ]
  },
  {
   "cell_type": "code",
   "execution_count": 11,
   "id": "3e600f57",
   "metadata": {},
   "outputs": [],
   "source": [
    "df_population = df_population.drop(['Country Code'], axis = 1)\n",
    "df_health_indicators = df_health_indicators.drop(['Country Code'], axis = 1)\n"
   ]
  },
  {
   "cell_type": "code",
   "execution_count": 12,
   "id": "c7297a9e",
   "metadata": {},
   "outputs": [
    {
     "data": {
      "text/html": [
       "<div>\n",
       "<style scoped>\n",
       "    .dataframe tbody tr th:only-of-type {\n",
       "        vertical-align: middle;\n",
       "    }\n",
       "\n",
       "    .dataframe tbody tr th {\n",
       "        vertical-align: top;\n",
       "    }\n",
       "\n",
       "    .dataframe thead th {\n",
       "        text-align: right;\n",
       "    }\n",
       "</style>\n",
       "<table border=\"1\" class=\"dataframe\">\n",
       "  <thead>\n",
       "    <tr style=\"text-align: right;\">\n",
       "      <th></th>\n",
       "      <th>Country</th>\n",
       "      <th>Indicators</th>\n",
       "      <th>Year</th>\n",
       "      <th>Values</th>\n",
       "    </tr>\n",
       "  </thead>\n",
       "  <tbody>\n",
       "    <tr>\n",
       "      <th>0</th>\n",
       "      <td>Africa Eastern and Southern</td>\n",
       "      <td>Population growth (annual %)</td>\n",
       "      <td>1960</td>\n",
       "      <td>NaN</td>\n",
       "    </tr>\n",
       "    <tr>\n",
       "      <th>1</th>\n",
       "      <td>Africa Eastern and Southern</td>\n",
       "      <td>Population, total</td>\n",
       "      <td>1960</td>\n",
       "      <td>1.306926e+08</td>\n",
       "    </tr>\n",
       "    <tr>\n",
       "      <th>2</th>\n",
       "      <td>Africa Eastern and Southern</td>\n",
       "      <td>Rural population (% of total population)</td>\n",
       "      <td>1960</td>\n",
       "      <td>8.543619e+01</td>\n",
       "    </tr>\n",
       "    <tr>\n",
       "      <th>3</th>\n",
       "      <td>Africa Eastern and Southern</td>\n",
       "      <td>Rural population growth (annual %)</td>\n",
       "      <td>1960</td>\n",
       "      <td>NaN</td>\n",
       "    </tr>\n",
       "    <tr>\n",
       "      <th>4</th>\n",
       "      <td>Africa Eastern and Southern</td>\n",
       "      <td>Urban population (% of total population)</td>\n",
       "      <td>1960</td>\n",
       "      <td>1.456381e+01</td>\n",
       "    </tr>\n",
       "  </tbody>\n",
       "</table>\n",
       "</div>"
      ],
      "text/plain": [
       "                       Country                                Indicators  \\\n",
       "0  Africa Eastern and Southern              Population growth (annual %)   \n",
       "1  Africa Eastern and Southern                         Population, total   \n",
       "2  Africa Eastern and Southern  Rural population (% of total population)   \n",
       "3  Africa Eastern and Southern        Rural population growth (annual %)   \n",
       "4  Africa Eastern and Southern  Urban population (% of total population)   \n",
       "\n",
       "   Year        Values  \n",
       "0  1960           NaN  \n",
       "1  1960  1.306926e+08  \n",
       "2  1960  8.543619e+01  \n",
       "3  1960           NaN  \n",
       "4  1960  1.456381e+01  "
      ]
     },
     "execution_count": 12,
     "metadata": {},
     "output_type": "execute_result"
    }
   ],
   "source": [
    "df_population.head()"
   ]
  },
  {
   "cell_type": "code",
   "execution_count": 13,
   "id": "945e889a",
   "metadata": {},
   "outputs": [
    {
     "data": {
      "text/html": [
       "<div>\n",
       "<style scoped>\n",
       "    .dataframe tbody tr th:only-of-type {\n",
       "        vertical-align: middle;\n",
       "    }\n",
       "\n",
       "    .dataframe tbody tr th {\n",
       "        vertical-align: top;\n",
       "    }\n",
       "\n",
       "    .dataframe thead th {\n",
       "        text-align: right;\n",
       "    }\n",
       "</style>\n",
       "<table border=\"1\" class=\"dataframe\">\n",
       "  <thead>\n",
       "    <tr style=\"text-align: right;\">\n",
       "      <th></th>\n",
       "      <th>Country</th>\n",
       "      <th>Indicators</th>\n",
       "      <th>Year</th>\n",
       "      <th>Values</th>\n",
       "    </tr>\n",
       "  </thead>\n",
       "  <tbody>\n",
       "    <tr>\n",
       "      <th>672</th>\n",
       "      <td>World</td>\n",
       "      <td>Current health expenditure (% of GDP)</td>\n",
       "      <td>1960</td>\n",
       "      <td>NaN</td>\n",
       "    </tr>\n",
       "    <tr>\n",
       "      <th>673</th>\n",
       "      <td>World</td>\n",
       "      <td>Current health expenditure per capita (current...</td>\n",
       "      <td>1960</td>\n",
       "      <td>NaN</td>\n",
       "    </tr>\n",
       "    <tr>\n",
       "      <th>674</th>\n",
       "      <td>World</td>\n",
       "      <td>Domestic general government health expenditure...</td>\n",
       "      <td>1960</td>\n",
       "      <td>NaN</td>\n",
       "    </tr>\n",
       "    <tr>\n",
       "      <th>675</th>\n",
       "      <td>World</td>\n",
       "      <td>External health expenditure (% of current heal...</td>\n",
       "      <td>1960</td>\n",
       "      <td>NaN</td>\n",
       "    </tr>\n",
       "    <tr>\n",
       "      <th>676</th>\n",
       "      <td>World</td>\n",
       "      <td>Human capital index (HCI) (scale 0-1)</td>\n",
       "      <td>1960</td>\n",
       "      <td>NaN</td>\n",
       "    </tr>\n",
       "  </tbody>\n",
       "</table>\n",
       "</div>"
      ],
      "text/plain": [
       "    Country                                         Indicators  Year  Values\n",
       "672   World              Current health expenditure (% of GDP)  1960     NaN\n",
       "673   World  Current health expenditure per capita (current...  1960     NaN\n",
       "674   World  Domestic general government health expenditure...  1960     NaN\n",
       "675   World  External health expenditure (% of current heal...  1960     NaN\n",
       "676   World              Human capital index (HCI) (scale 0-1)  1960     NaN"
      ]
     },
     "execution_count": 13,
     "metadata": {},
     "output_type": "execute_result"
    }
   ],
   "source": [
    "df_health_indicators.head()"
   ]
  },
  {
   "cell_type": "code",
   "execution_count": 15,
   "id": "5f43cbc4",
   "metadata": {},
   "outputs": [],
   "source": [
    "filter = ~df_population['Country'].isin(countries_to_remove)\n",
    "df_population = df_population[filter]\n",
    "df_population = df_population.reindex(columns = ['Year','Country', 'Indicators', 'Values' ])\n",
    "df_health_indicators = df_health_indicators.reindex(columns = ['Year','Country', 'Indicators', 'Values' ])\n"
   ]
  },
  {
   "cell_type": "code",
   "execution_count": 16,
   "id": "c7c85667",
   "metadata": {
    "scrolled": true
   },
   "outputs": [
    {
     "data": {
      "text/html": [
       "<div>\n",
       "<style scoped>\n",
       "    .dataframe tbody tr th:only-of-type {\n",
       "        vertical-align: middle;\n",
       "    }\n",
       "\n",
       "    .dataframe tbody tr th {\n",
       "        vertical-align: top;\n",
       "    }\n",
       "\n",
       "    .dataframe thead th {\n",
       "        text-align: right;\n",
       "    }\n",
       "</style>\n",
       "<table border=\"1\" class=\"dataframe\">\n",
       "  <thead>\n",
       "    <tr style=\"text-align: right;\">\n",
       "      <th></th>\n",
       "      <th>Year</th>\n",
       "      <th>Country</th>\n",
       "      <th>Indicators</th>\n",
       "      <th>Values</th>\n",
       "    </tr>\n",
       "  </thead>\n",
       "  <tbody>\n",
       "    <tr>\n",
       "      <th>288</th>\n",
       "      <td>1960</td>\n",
       "      <td>World</td>\n",
       "      <td>Population growth (annual %)</td>\n",
       "      <td>NaN</td>\n",
       "    </tr>\n",
       "    <tr>\n",
       "      <th>289</th>\n",
       "      <td>1960</td>\n",
       "      <td>World</td>\n",
       "      <td>Population, total</td>\n",
       "      <td>3.031565e+09</td>\n",
       "    </tr>\n",
       "    <tr>\n",
       "      <th>290</th>\n",
       "      <td>1960</td>\n",
       "      <td>World</td>\n",
       "      <td>Rural population (% of total population)</td>\n",
       "      <td>6.639800e+01</td>\n",
       "    </tr>\n",
       "    <tr>\n",
       "      <th>291</th>\n",
       "      <td>1960</td>\n",
       "      <td>World</td>\n",
       "      <td>Rural population growth (annual %)</td>\n",
       "      <td>NaN</td>\n",
       "    </tr>\n",
       "    <tr>\n",
       "      <th>292</th>\n",
       "      <td>1960</td>\n",
       "      <td>World</td>\n",
       "      <td>Urban population (% of total population)</td>\n",
       "      <td>3.360200e+01</td>\n",
       "    </tr>\n",
       "  </tbody>\n",
       "</table>\n",
       "</div>"
      ],
      "text/plain": [
       "     Year Country                                Indicators        Values\n",
       "288  1960   World              Population growth (annual %)           NaN\n",
       "289  1960   World                         Population, total  3.031565e+09\n",
       "290  1960   World  Rural population (% of total population)  6.639800e+01\n",
       "291  1960   World        Rural population growth (annual %)           NaN\n",
       "292  1960   World  Urban population (% of total population)  3.360200e+01"
      ]
     },
     "execution_count": 16,
     "metadata": {},
     "output_type": "execute_result"
    }
   ],
   "source": [
    "df_population.head()"
   ]
  },
  {
   "cell_type": "markdown",
   "id": "3b5134b5",
   "metadata": {},
   "source": [
    "#### Data Population and health indicators"
   ]
  },
  {
   "cell_type": "code",
   "execution_count": 17,
   "id": "3e6e04ab",
   "metadata": {},
   "outputs": [],
   "source": [
    "#Guardar csv\n",
    "df_population.to_csv('../data/df_population.csv')\n",
    "df_health_indicators.to_csv('../data/df_health_indicators.csv')\n",
    "df_health_indicators_model.to_csv('../data/df_health_indicators_model.csv')\n",
    "df_population_model.to_csv('../data/df_population_model.csv')"
   ]
  },
  {
   "cell_type": "markdown",
   "id": "743b8479",
   "metadata": {},
   "source": [
    "# Cleaning df_Seaice"
   ]
  },
  {
   "cell_type": "code",
   "execution_count": 18,
   "id": "88d62133",
   "metadata": {},
   "outputs": [
    {
     "data": {
      "text/html": [
       "<div>\n",
       "<style scoped>\n",
       "    .dataframe tbody tr th:only-of-type {\n",
       "        vertical-align: middle;\n",
       "    }\n",
       "\n",
       "    .dataframe tbody tr th {\n",
       "        vertical-align: top;\n",
       "    }\n",
       "\n",
       "    .dataframe thead th {\n",
       "        text-align: right;\n",
       "    }\n",
       "</style>\n",
       "<table border=\"1\" class=\"dataframe\">\n",
       "  <thead>\n",
       "    <tr style=\"text-align: right;\">\n",
       "      <th></th>\n",
       "      <th>Year</th>\n",
       "      <th>Month</th>\n",
       "      <th>Day</th>\n",
       "      <th>Extent</th>\n",
       "      <th>Missing</th>\n",
       "      <th>Source Data</th>\n",
       "      <th>hemisphere</th>\n",
       "    </tr>\n",
       "  </thead>\n",
       "  <tbody>\n",
       "    <tr>\n",
       "      <th>0</th>\n",
       "      <td>1978</td>\n",
       "      <td>10</td>\n",
       "      <td>26</td>\n",
       "      <td>10.231</td>\n",
       "      <td>0.0</td>\n",
       "      <td>['ftp://sidads.colorado.edu/pub/DATASETS/nsid...</td>\n",
       "      <td>north</td>\n",
       "    </tr>\n",
       "    <tr>\n",
       "      <th>1</th>\n",
       "      <td>1978</td>\n",
       "      <td>10</td>\n",
       "      <td>28</td>\n",
       "      <td>10.420</td>\n",
       "      <td>0.0</td>\n",
       "      <td>['ftp://sidads.colorado.edu/pub/DATASETS/nsid...</td>\n",
       "      <td>north</td>\n",
       "    </tr>\n",
       "    <tr>\n",
       "      <th>2</th>\n",
       "      <td>1978</td>\n",
       "      <td>10</td>\n",
       "      <td>30</td>\n",
       "      <td>10.557</td>\n",
       "      <td>0.0</td>\n",
       "      <td>['ftp://sidads.colorado.edu/pub/DATASETS/nsid...</td>\n",
       "      <td>north</td>\n",
       "    </tr>\n",
       "    <tr>\n",
       "      <th>3</th>\n",
       "      <td>1978</td>\n",
       "      <td>11</td>\n",
       "      <td>1</td>\n",
       "      <td>10.670</td>\n",
       "      <td>0.0</td>\n",
       "      <td>['ftp://sidads.colorado.edu/pub/DATASETS/nsid...</td>\n",
       "      <td>north</td>\n",
       "    </tr>\n",
       "    <tr>\n",
       "      <th>4</th>\n",
       "      <td>1978</td>\n",
       "      <td>11</td>\n",
       "      <td>3</td>\n",
       "      <td>10.777</td>\n",
       "      <td>0.0</td>\n",
       "      <td>['ftp://sidads.colorado.edu/pub/DATASETS/nsid...</td>\n",
       "      <td>north</td>\n",
       "    </tr>\n",
       "  </tbody>\n",
       "</table>\n",
       "</div>"
      ],
      "text/plain": [
       "   Year   Month   Day       Extent      Missing  \\\n",
       "0  1978      10    26       10.231          0.0   \n",
       "1  1978      10    28       10.420          0.0   \n",
       "2  1978      10    30       10.557          0.0   \n",
       "3  1978      11     1       10.670          0.0   \n",
       "4  1978      11     3       10.777          0.0   \n",
       "\n",
       "                                         Source Data hemisphere  \n",
       "0   ['ftp://sidads.colorado.edu/pub/DATASETS/nsid...      north  \n",
       "1   ['ftp://sidads.colorado.edu/pub/DATASETS/nsid...      north  \n",
       "2   ['ftp://sidads.colorado.edu/pub/DATASETS/nsid...      north  \n",
       "3   ['ftp://sidads.colorado.edu/pub/DATASETS/nsid...      north  \n",
       "4   ['ftp://sidads.colorado.edu/pub/DATASETS/nsid...      north  "
      ]
     },
     "execution_count": 18,
     "metadata": {},
     "output_type": "execute_result"
    }
   ],
   "source": [
    "df_seaice.head()"
   ]
  },
  {
   "cell_type": "code",
   "execution_count": 19,
   "id": "27cba00a",
   "metadata": {},
   "outputs": [],
   "source": [
    "#Eliminar columnas\n",
    "df_seaice_model = df_seaice.drop(['    Missing',' Source Data'], axis = 1)"
   ]
  },
  {
   "cell_type": "code",
   "execution_count": 20,
   "id": "e71b3972",
   "metadata": {},
   "outputs": [],
   "source": [
    "#Eliminar columnas que no me aportan valor\n",
    "df_seaice = df_seaice.drop(['    Missing', ' Day', ' Month', ' Source Data', 'hemisphere'], axis = 1)"
   ]
  },
  {
   "cell_type": "code",
   "execution_count": 24,
   "id": "d97d4f0e",
   "metadata": {},
   "outputs": [],
   "source": [
    "# Renombrar la columna '     Extent' a 'Extent'\n",
    "df_seaice = df_seaice.rename(columns={'     Extent': 'Values'})\n"
   ]
  },
  {
   "cell_type": "code",
   "execution_count": 30,
   "id": "f839a730",
   "metadata": {},
   "outputs": [],
   "source": []
  },
  {
   "cell_type": "code",
   "execution_count": 31,
   "id": "1feaf633",
   "metadata": {},
   "outputs": [],
   "source": [
    "df_seaice = df_seaice.reindex(columns = ['Year','Country', 'Values'])"
   ]
  },
  {
   "cell_type": "code",
   "execution_count": 32,
   "id": "5f0d0591",
   "metadata": {},
   "outputs": [
    {
     "data": {
      "text/html": [
       "<div>\n",
       "<style scoped>\n",
       "    .dataframe tbody tr th:only-of-type {\n",
       "        vertical-align: middle;\n",
       "    }\n",
       "\n",
       "    .dataframe tbody tr th {\n",
       "        vertical-align: top;\n",
       "    }\n",
       "\n",
       "    .dataframe thead th {\n",
       "        text-align: right;\n",
       "    }\n",
       "</style>\n",
       "<table border=\"1\" class=\"dataframe\">\n",
       "  <thead>\n",
       "    <tr style=\"text-align: right;\">\n",
       "      <th></th>\n",
       "      <th>Year</th>\n",
       "      <th>Country</th>\n",
       "      <th>Values</th>\n",
       "    </tr>\n",
       "  </thead>\n",
       "  <tbody>\n",
       "    <tr>\n",
       "      <th>0</th>\n",
       "      <td>1978</td>\n",
       "      <td>World</td>\n",
       "      <td>10.231</td>\n",
       "    </tr>\n",
       "    <tr>\n",
       "      <th>1</th>\n",
       "      <td>1978</td>\n",
       "      <td>World</td>\n",
       "      <td>10.420</td>\n",
       "    </tr>\n",
       "    <tr>\n",
       "      <th>2</th>\n",
       "      <td>1978</td>\n",
       "      <td>World</td>\n",
       "      <td>10.557</td>\n",
       "    </tr>\n",
       "    <tr>\n",
       "      <th>3</th>\n",
       "      <td>1978</td>\n",
       "      <td>World</td>\n",
       "      <td>10.670</td>\n",
       "    </tr>\n",
       "    <tr>\n",
       "      <th>4</th>\n",
       "      <td>1978</td>\n",
       "      <td>World</td>\n",
       "      <td>10.777</td>\n",
       "    </tr>\n",
       "  </tbody>\n",
       "</table>\n",
       "</div>"
      ],
      "text/plain": [
       "   Year Country  Values\n",
       "0  1978   World  10.231\n",
       "1  1978   World  10.420\n",
       "2  1978   World  10.557\n",
       "3  1978   World  10.670\n",
       "4  1978   World  10.777"
      ]
     },
     "execution_count": 32,
     "metadata": {},
     "output_type": "execute_result"
    }
   ],
   "source": [
    "df_seaice.head()"
   ]
  },
  {
   "cell_type": "code",
   "execution_count": 35,
   "id": "c9b3c6a2",
   "metadata": {},
   "outputs": [],
   "source": [
    "#Agrupar por media y año, y reducir la tabla a 1 registro por año\n",
    "mean_year = df_seaice.groupby('Year')['Values'].mean()\n",
    "df_seaice = pd.DataFrame({'Year': mean_year.index, 'Values': mean_year.values})\n"
   ]
  },
  {
   "cell_type": "code",
   "execution_count": 39,
   "id": "9a768bbc",
   "metadata": {},
   "outputs": [],
   "source": [
    "df_seaice['Country'] = 'World'\n"
   ]
  },
  {
   "cell_type": "code",
   "execution_count": 40,
   "id": "7b0fef76",
   "metadata": {},
   "outputs": [
    {
     "data": {
      "text/html": [
       "<div>\n",
       "<style scoped>\n",
       "    .dataframe tbody tr th:only-of-type {\n",
       "        vertical-align: middle;\n",
       "    }\n",
       "\n",
       "    .dataframe tbody tr th {\n",
       "        vertical-align: top;\n",
       "    }\n",
       "\n",
       "    .dataframe thead th {\n",
       "        text-align: right;\n",
       "    }\n",
       "</style>\n",
       "<table border=\"1\" class=\"dataframe\">\n",
       "  <thead>\n",
       "    <tr style=\"text-align: right;\">\n",
       "      <th></th>\n",
       "      <th>Year</th>\n",
       "      <th>Values</th>\n",
       "      <th>Country</th>\n",
       "    </tr>\n",
       "  </thead>\n",
       "  <tbody>\n",
       "    <tr>\n",
       "      <th>0</th>\n",
       "      <td>1978</td>\n",
       "      <td>12.976838</td>\n",
       "      <td>World</td>\n",
       "    </tr>\n",
       "    <tr>\n",
       "      <th>1</th>\n",
       "      <td>1979</td>\n",
       "      <td>12.019349</td>\n",
       "      <td>World</td>\n",
       "    </tr>\n",
       "    <tr>\n",
       "      <th>2</th>\n",
       "      <td>1980</td>\n",
       "      <td>11.785219</td>\n",
       "      <td>World</td>\n",
       "    </tr>\n",
       "    <tr>\n",
       "      <th>3</th>\n",
       "      <td>1981</td>\n",
       "      <td>11.776148</td>\n",
       "      <td>World</td>\n",
       "    </tr>\n",
       "    <tr>\n",
       "      <th>4</th>\n",
       "      <td>1982</td>\n",
       "      <td>12.048755</td>\n",
       "      <td>World</td>\n",
       "    </tr>\n",
       "    <tr>\n",
       "      <th>5</th>\n",
       "      <td>1983</td>\n",
       "      <td>11.852904</td>\n",
       "      <td>World</td>\n",
       "    </tr>\n",
       "    <tr>\n",
       "      <th>6</th>\n",
       "      <td>1984</td>\n",
       "      <td>11.681139</td>\n",
       "      <td>World</td>\n",
       "    </tr>\n",
       "    <tr>\n",
       "      <th>7</th>\n",
       "      <td>1985</td>\n",
       "      <td>11.810214</td>\n",
       "      <td>World</td>\n",
       "    </tr>\n",
       "    <tr>\n",
       "      <th>8</th>\n",
       "      <td>1986</td>\n",
       "      <td>11.639773</td>\n",
       "      <td>World</td>\n",
       "    </tr>\n",
       "    <tr>\n",
       "      <th>9</th>\n",
       "      <td>1987</td>\n",
       "      <td>12.149411</td>\n",
       "      <td>World</td>\n",
       "    </tr>\n",
       "    <tr>\n",
       "      <th>10</th>\n",
       "      <td>1988</td>\n",
       "      <td>11.889179</td>\n",
       "      <td>World</td>\n",
       "    </tr>\n",
       "    <tr>\n",
       "      <th>11</th>\n",
       "      <td>1989</td>\n",
       "      <td>11.696267</td>\n",
       "      <td>World</td>\n",
       "    </tr>\n",
       "    <tr>\n",
       "      <th>12</th>\n",
       "      <td>1990</td>\n",
       "      <td>11.551718</td>\n",
       "      <td>World</td>\n",
       "    </tr>\n",
       "    <tr>\n",
       "      <th>13</th>\n",
       "      <td>1991</td>\n",
       "      <td>11.647066</td>\n",
       "      <td>World</td>\n",
       "    </tr>\n",
       "    <tr>\n",
       "      <th>14</th>\n",
       "      <td>1992</td>\n",
       "      <td>11.754549</td>\n",
       "      <td>World</td>\n",
       "    </tr>\n",
       "    <tr>\n",
       "      <th>15</th>\n",
       "      <td>1993</td>\n",
       "      <td>11.671496</td>\n",
       "      <td>World</td>\n",
       "    </tr>\n",
       "    <tr>\n",
       "      <th>16</th>\n",
       "      <td>1994</td>\n",
       "      <td>11.892644</td>\n",
       "      <td>World</td>\n",
       "    </tr>\n",
       "    <tr>\n",
       "      <th>17</th>\n",
       "      <td>1995</td>\n",
       "      <td>11.604933</td>\n",
       "      <td>World</td>\n",
       "    </tr>\n",
       "    <tr>\n",
       "      <th>18</th>\n",
       "      <td>1996</td>\n",
       "      <td>11.804958</td>\n",
       "      <td>World</td>\n",
       "    </tr>\n",
       "    <tr>\n",
       "      <th>19</th>\n",
       "      <td>1997</td>\n",
       "      <td>11.528833</td>\n",
       "      <td>World</td>\n",
       "    </tr>\n",
       "  </tbody>\n",
       "</table>\n",
       "</div>"
      ],
      "text/plain": [
       "    Year     Values Country\n",
       "0   1978  12.976838   World\n",
       "1   1979  12.019349   World\n",
       "2   1980  11.785219   World\n",
       "3   1981  11.776148   World\n",
       "4   1982  12.048755   World\n",
       "5   1983  11.852904   World\n",
       "6   1984  11.681139   World\n",
       "7   1985  11.810214   World\n",
       "8   1986  11.639773   World\n",
       "9   1987  12.149411   World\n",
       "10  1988  11.889179   World\n",
       "11  1989  11.696267   World\n",
       "12  1990  11.551718   World\n",
       "13  1991  11.647066   World\n",
       "14  1992  11.754549   World\n",
       "15  1993  11.671496   World\n",
       "16  1994  11.892644   World\n",
       "17  1995  11.604933   World\n",
       "18  1996  11.804958   World\n",
       "19  1997  11.528833   World"
      ]
     },
     "execution_count": 40,
     "metadata": {},
     "output_type": "execute_result"
    }
   ],
   "source": [
    "df_seaice.head(20)"
   ]
  },
  {
   "cell_type": "markdown",
   "id": "672f1779",
   "metadata": {},
   "source": [
    "#### Seaice Mean"
   ]
  },
  {
   "cell_type": "code",
   "execution_count": 41,
   "id": "499a3e85",
   "metadata": {},
   "outputs": [],
   "source": [
    "#Guardar csv\n",
    "\n",
    "df_seaice.to_csv('../data/df_Deshielo_Media.csv')\n",
    "df_seaice_model.to_csv('../data/df_seaice_model.csv')"
   ]
  },
  {
   "cell_type": "markdown",
   "id": "c3a73874",
   "metadata": {},
   "source": [
    "# Cleaning df_temp"
   ]
  },
  {
   "cell_type": "code",
   "execution_count": 42,
   "id": "ab836514",
   "metadata": {},
   "outputs": [
    {
     "data": {
      "text/html": [
       "<div>\n",
       "<style scoped>\n",
       "    .dataframe tbody tr th:only-of-type {\n",
       "        vertical-align: middle;\n",
       "    }\n",
       "\n",
       "    .dataframe tbody tr th {\n",
       "        vertical-align: top;\n",
       "    }\n",
       "\n",
       "    .dataframe thead th {\n",
       "        text-align: right;\n",
       "    }\n",
       "</style>\n",
       "<table border=\"1\" class=\"dataframe\">\n",
       "  <thead>\n",
       "    <tr style=\"text-align: right;\">\n",
       "      <th></th>\n",
       "      <th>dt</th>\n",
       "      <th>AverageTemperature</th>\n",
       "      <th>AverageTemperatureUncertainty</th>\n",
       "      <th>Country</th>\n",
       "    </tr>\n",
       "  </thead>\n",
       "  <tbody>\n",
       "    <tr>\n",
       "      <th>0</th>\n",
       "      <td>1743-11-01</td>\n",
       "      <td>4.384</td>\n",
       "      <td>2.294</td>\n",
       "      <td>Åland</td>\n",
       "    </tr>\n",
       "    <tr>\n",
       "      <th>1</th>\n",
       "      <td>1743-12-01</td>\n",
       "      <td>NaN</td>\n",
       "      <td>NaN</td>\n",
       "      <td>Åland</td>\n",
       "    </tr>\n",
       "    <tr>\n",
       "      <th>2</th>\n",
       "      <td>1744-01-01</td>\n",
       "      <td>NaN</td>\n",
       "      <td>NaN</td>\n",
       "      <td>Åland</td>\n",
       "    </tr>\n",
       "    <tr>\n",
       "      <th>3</th>\n",
       "      <td>1744-02-01</td>\n",
       "      <td>NaN</td>\n",
       "      <td>NaN</td>\n",
       "      <td>Åland</td>\n",
       "    </tr>\n",
       "    <tr>\n",
       "      <th>4</th>\n",
       "      <td>1744-03-01</td>\n",
       "      <td>NaN</td>\n",
       "      <td>NaN</td>\n",
       "      <td>Åland</td>\n",
       "    </tr>\n",
       "  </tbody>\n",
       "</table>\n",
       "</div>"
      ],
      "text/plain": [
       "           dt  AverageTemperature  AverageTemperatureUncertainty Country\n",
       "0  1743-11-01               4.384                          2.294   Åland\n",
       "1  1743-12-01                 NaN                            NaN   Åland\n",
       "2  1744-01-01                 NaN                            NaN   Åland\n",
       "3  1744-02-01                 NaN                            NaN   Åland\n",
       "4  1744-03-01                 NaN                            NaN   Åland"
      ]
     },
     "execution_count": 42,
     "metadata": {},
     "output_type": "execute_result"
    }
   ],
   "source": [
    "df_temp.head()"
   ]
  },
  {
   "cell_type": "code",
   "execution_count": 43,
   "id": "dbd30fa2",
   "metadata": {},
   "outputs": [],
   "source": [
    "# Eliminar los registros por debajo de 1960\n",
    "df_temp = df_temp[df_temp['dt'].str[:4].astype(int) >= 1960]"
   ]
  },
  {
   "cell_type": "code",
   "execution_count": 44,
   "id": "4f716ebb",
   "metadata": {},
   "outputs": [],
   "source": [
    "# Convertir la columna 'dt' a tipo datetime\n",
    "df_temp['dt'] = pd.to_datetime(df_temp['dt'])\n",
    "\n",
    "# Extraer el año de la columna 'dt'\n",
    "df_temp['Year'] = df_temp['dt'].dt.year\n",
    "\n",
    "# Eliminar la columna 'dt'\n",
    "df_temp = df_temp.drop('dt', axis=1)\n"
   ]
  },
  {
   "cell_type": "code",
   "execution_count": 45,
   "id": "94b7b5a4",
   "metadata": {},
   "outputs": [],
   "source": [
    "#Reindexar las columnas\n",
    "df_temp = df_temp.reindex(columns = ['Year','Country', 'AverageTemperature', 'AverageTemperatureUncertainty' ])"
   ]
  },
  {
   "cell_type": "code",
   "execution_count": 46,
   "id": "5d6a4b8b",
   "metadata": {},
   "outputs": [],
   "source": [
    "# Agrupar por year y country, encontrar la media para cada año y cada país y asignar valores.\n",
    "df_temp = df_temp.groupby(['Year', 'Country']).agg({'AverageTemperature': 'mean', 'AverageTemperatureUncertainty': 'mean'}).reset_index()\n",
    "df_temp = df_temp.rename(columns={'AverageTemperature': 'Average_Temperature'})\n",
    "df_temp = df_temp.rename(columns={'AverageTemperatureUncertainty': 'Average_Temperature_Uncertainty'})\n"
   ]
  },
  {
   "cell_type": "code",
   "execution_count": 47,
   "id": "06f94a0c",
   "metadata": {},
   "outputs": [
    {
     "data": {
      "text/html": [
       "<div>\n",
       "<style scoped>\n",
       "    .dataframe tbody tr th:only-of-type {\n",
       "        vertical-align: middle;\n",
       "    }\n",
       "\n",
       "    .dataframe tbody tr th {\n",
       "        vertical-align: top;\n",
       "    }\n",
       "\n",
       "    .dataframe thead th {\n",
       "        text-align: right;\n",
       "    }\n",
       "</style>\n",
       "<table border=\"1\" class=\"dataframe\">\n",
       "  <thead>\n",
       "    <tr style=\"text-align: right;\">\n",
       "      <th></th>\n",
       "      <th>Year</th>\n",
       "      <th>Country</th>\n",
       "      <th>Average_Temperature</th>\n",
       "      <th>Average_Temperature_Uncertainty</th>\n",
       "    </tr>\n",
       "  </thead>\n",
       "  <tbody>\n",
       "    <tr>\n",
       "      <th>0</th>\n",
       "      <td>1960</td>\n",
       "      <td>Afghanistan</td>\n",
       "      <td>13.985417</td>\n",
       "      <td>0.441833</td>\n",
       "    </tr>\n",
       "    <tr>\n",
       "      <th>1</th>\n",
       "      <td>1960</td>\n",
       "      <td>Africa</td>\n",
       "      <td>24.305083</td>\n",
       "      <td>0.208250</td>\n",
       "    </tr>\n",
       "    <tr>\n",
       "      <th>2</th>\n",
       "      <td>1960</td>\n",
       "      <td>Albania</td>\n",
       "      <td>13.335083</td>\n",
       "      <td>0.318750</td>\n",
       "    </tr>\n",
       "    <tr>\n",
       "      <th>3</th>\n",
       "      <td>1960</td>\n",
       "      <td>Algeria</td>\n",
       "      <td>23.504083</td>\n",
       "      <td>0.452083</td>\n",
       "    </tr>\n",
       "    <tr>\n",
       "      <th>4</th>\n",
       "      <td>1960</td>\n",
       "      <td>American Samoa</td>\n",
       "      <td>26.765500</td>\n",
       "      <td>0.394000</td>\n",
       "    </tr>\n",
       "  </tbody>\n",
       "</table>\n",
       "</div>"
      ],
      "text/plain": [
       "   Year         Country  Average_Temperature  Average_Temperature_Uncertainty\n",
       "0  1960     Afghanistan            13.985417                         0.441833\n",
       "1  1960          Africa            24.305083                         0.208250\n",
       "2  1960         Albania            13.335083                         0.318750\n",
       "3  1960         Algeria            23.504083                         0.452083\n",
       "4  1960  American Samoa            26.765500                         0.394000"
      ]
     },
     "execution_count": 47,
     "metadata": {},
     "output_type": "execute_result"
    }
   ],
   "source": [
    "df_temp.head()"
   ]
  },
  {
   "cell_type": "code",
   "execution_count": 48,
   "id": "7f6ca205",
   "metadata": {},
   "outputs": [],
   "source": [
    "#Selección para el modelo\n",
    "df_temp_model = df_temp.drop('Average_Temperature_Uncertainty', axis=1)"
   ]
  },
  {
   "cell_type": "code",
   "execution_count": 49,
   "id": "e2301592",
   "metadata": {},
   "outputs": [],
   "source": [
    "#Guardar csv\n",
    "df_temp.to_csv('../data/df_temp_media.csv')\n",
    "df_temp_model.to_csv('../data/df_temp_model.csv')"
   ]
  },
  {
   "cell_type": "markdown",
   "id": "2dd7e6e0",
   "metadata": {},
   "source": [
    "# Cleaning df_temp_change"
   ]
  },
  {
   "cell_type": "code",
   "execution_count": 50,
   "id": "53d1fa56",
   "metadata": {},
   "outputs": [
    {
     "data": {
      "text/html": [
       "<div>\n",
       "<style scoped>\n",
       "    .dataframe tbody tr th:only-of-type {\n",
       "        vertical-align: middle;\n",
       "    }\n",
       "\n",
       "    .dataframe tbody tr th {\n",
       "        vertical-align: top;\n",
       "    }\n",
       "\n",
       "    .dataframe thead th {\n",
       "        text-align: right;\n",
       "    }\n",
       "</style>\n",
       "<table border=\"1\" class=\"dataframe\">\n",
       "  <thead>\n",
       "    <tr style=\"text-align: right;\">\n",
       "      <th></th>\n",
       "      <th>Domain Code</th>\n",
       "      <th>Domain</th>\n",
       "      <th>Area Code (M49)</th>\n",
       "      <th>Area</th>\n",
       "      <th>Element Code</th>\n",
       "      <th>Element</th>\n",
       "      <th>Months Code</th>\n",
       "      <th>Months</th>\n",
       "      <th>Year Code</th>\n",
       "      <th>Year</th>\n",
       "      <th>Unit</th>\n",
       "      <th>Value</th>\n",
       "      <th>Flag</th>\n",
       "      <th>Flag Description</th>\n",
       "    </tr>\n",
       "  </thead>\n",
       "  <tbody>\n",
       "    <tr>\n",
       "      <th>0</th>\n",
       "      <td>ET</td>\n",
       "      <td>Temperature change</td>\n",
       "      <td>4</td>\n",
       "      <td>Afghanistan</td>\n",
       "      <td>7271</td>\n",
       "      <td>Temperature change</td>\n",
       "      <td>7020</td>\n",
       "      <td>Meteorological year</td>\n",
       "      <td>1980</td>\n",
       "      <td>1980</td>\n",
       "      <td>°C</td>\n",
       "      <td>0.690</td>\n",
       "      <td>E</td>\n",
       "      <td>Estimated value</td>\n",
       "    </tr>\n",
       "    <tr>\n",
       "      <th>1</th>\n",
       "      <td>ET</td>\n",
       "      <td>Temperature change</td>\n",
       "      <td>4</td>\n",
       "      <td>Afghanistan</td>\n",
       "      <td>7271</td>\n",
       "      <td>Temperature change</td>\n",
       "      <td>7020</td>\n",
       "      <td>Meteorological year</td>\n",
       "      <td>1981</td>\n",
       "      <td>1981</td>\n",
       "      <td>°C</td>\n",
       "      <td>0.583</td>\n",
       "      <td>E</td>\n",
       "      <td>Estimated value</td>\n",
       "    </tr>\n",
       "    <tr>\n",
       "      <th>2</th>\n",
       "      <td>ET</td>\n",
       "      <td>Temperature change</td>\n",
       "      <td>4</td>\n",
       "      <td>Afghanistan</td>\n",
       "      <td>7271</td>\n",
       "      <td>Temperature change</td>\n",
       "      <td>7020</td>\n",
       "      <td>Meteorological year</td>\n",
       "      <td>1982</td>\n",
       "      <td>1982</td>\n",
       "      <td>°C</td>\n",
       "      <td>-0.237</td>\n",
       "      <td>E</td>\n",
       "      <td>Estimated value</td>\n",
       "    </tr>\n",
       "    <tr>\n",
       "      <th>3</th>\n",
       "      <td>ET</td>\n",
       "      <td>Temperature change</td>\n",
       "      <td>4</td>\n",
       "      <td>Afghanistan</td>\n",
       "      <td>7271</td>\n",
       "      <td>Temperature change</td>\n",
       "      <td>7020</td>\n",
       "      <td>Meteorological year</td>\n",
       "      <td>1983</td>\n",
       "      <td>1983</td>\n",
       "      <td>°C</td>\n",
       "      <td>0.213</td>\n",
       "      <td>E</td>\n",
       "      <td>Estimated value</td>\n",
       "    </tr>\n",
       "    <tr>\n",
       "      <th>4</th>\n",
       "      <td>ET</td>\n",
       "      <td>Temperature change</td>\n",
       "      <td>4</td>\n",
       "      <td>Afghanistan</td>\n",
       "      <td>7271</td>\n",
       "      <td>Temperature change</td>\n",
       "      <td>7020</td>\n",
       "      <td>Meteorological year</td>\n",
       "      <td>1984</td>\n",
       "      <td>1984</td>\n",
       "      <td>°C</td>\n",
       "      <td>0.210</td>\n",
       "      <td>E</td>\n",
       "      <td>Estimated value</td>\n",
       "    </tr>\n",
       "  </tbody>\n",
       "</table>\n",
       "</div>"
      ],
      "text/plain": [
       "  Domain Code              Domain  Area Code (M49)         Area  Element Code  \\\n",
       "0          ET  Temperature change                4  Afghanistan          7271   \n",
       "1          ET  Temperature change                4  Afghanistan          7271   \n",
       "2          ET  Temperature change                4  Afghanistan          7271   \n",
       "3          ET  Temperature change                4  Afghanistan          7271   \n",
       "4          ET  Temperature change                4  Afghanistan          7271   \n",
       "\n",
       "              Element  Months Code               Months  Year Code  Year Unit  \\\n",
       "0  Temperature change         7020  Meteorological year       1980  1980   °C   \n",
       "1  Temperature change         7020  Meteorological year       1981  1981   °C   \n",
       "2  Temperature change         7020  Meteorological year       1982  1982   °C   \n",
       "3  Temperature change         7020  Meteorological year       1983  1983   °C   \n",
       "4  Temperature change         7020  Meteorological year       1984  1984   °C   \n",
       "\n",
       "   Value Flag Flag Description  \n",
       "0  0.690    E  Estimated value  \n",
       "1  0.583    E  Estimated value  \n",
       "2 -0.237    E  Estimated value  \n",
       "3  0.213    E  Estimated value  \n",
       "4  0.210    E  Estimated value  "
      ]
     },
     "execution_count": 50,
     "metadata": {},
     "output_type": "execute_result"
    }
   ],
   "source": [
    "df_temp_change.head()"
   ]
  },
  {
   "cell_type": "code",
   "execution_count": 51,
   "id": "16bc0e67",
   "metadata": {},
   "outputs": [],
   "source": [
    "# Eliminar columnas que no me interesan\n",
    "df_temp_change = df_temp_change.drop(['Unit','Months', 'Domain','Domain Code', 'Area Code (M49)', 'Element Code', 'Months Code', 'Year Code', 'Flag'], axis = 1)"
   ]
  },
  {
   "cell_type": "code",
   "execution_count": 52,
   "id": "17fbe64b",
   "metadata": {},
   "outputs": [],
   "source": [
    "#Reordenar las columnas\n",
    "df_temp_change = df_temp_change.reindex(columns = ['Year', 'Area', 'Element', 'Value', 'Flag Description'])"
   ]
  },
  {
   "cell_type": "code",
   "execution_count": 53,
   "id": "5648beb6",
   "metadata": {},
   "outputs": [],
   "source": [
    "#Renombrar las columnas\n",
    "df_temp_change = df_temp_change.rename(columns = {'Area' : 'Country', 'Flag Description' : 'Description'})"
   ]
  },
  {
   "cell_type": "code",
   "execution_count": 54,
   "id": "75c8b8bb",
   "metadata": {},
   "outputs": [],
   "source": [
    "# Añadir etiqueta de valor a value\n",
    "df_temp_change[\"Value\"] = df_temp_change[\"Value\"].astype(str) + \" ºC\"\n"
   ]
  },
  {
   "cell_type": "code",
   "execution_count": 55,
   "id": "41358253",
   "metadata": {},
   "outputs": [],
   "source": [
    "#Guardar csv\n",
    "df_temp_change.to_csv('../data/df_temp_change.csv')"
   ]
  },
  {
   "cell_type": "markdown",
   "id": "441a720b",
   "metadata": {},
   "source": [
    "# Cleaning df_fires"
   ]
  },
  {
   "cell_type": "code",
   "execution_count": 56,
   "id": "4f860adb",
   "metadata": {},
   "outputs": [
    {
     "data": {
      "text/html": [
       "<div>\n",
       "<style scoped>\n",
       "    .dataframe tbody tr th:only-of-type {\n",
       "        vertical-align: middle;\n",
       "    }\n",
       "\n",
       "    .dataframe tbody tr th {\n",
       "        vertical-align: top;\n",
       "    }\n",
       "\n",
       "    .dataframe thead th {\n",
       "        text-align: right;\n",
       "    }\n",
       "</style>\n",
       "<table border=\"1\" class=\"dataframe\">\n",
       "  <thead>\n",
       "    <tr style=\"text-align: right;\">\n",
       "      <th></th>\n",
       "      <th>Domain Code</th>\n",
       "      <th>Domain</th>\n",
       "      <th>Area Code (M49)</th>\n",
       "      <th>Area</th>\n",
       "      <th>Element Code</th>\n",
       "      <th>Element</th>\n",
       "      <th>Item Code</th>\n",
       "      <th>Item</th>\n",
       "      <th>Year Code</th>\n",
       "      <th>Year</th>\n",
       "      <th>Source Code</th>\n",
       "      <th>Source</th>\n",
       "      <th>Unit</th>\n",
       "      <th>Value</th>\n",
       "      <th>Flag</th>\n",
       "      <th>Flag Description</th>\n",
       "      <th>Note</th>\n",
       "    </tr>\n",
       "  </thead>\n",
       "  <tbody>\n",
       "    <tr>\n",
       "      <th>0</th>\n",
       "      <td>GI</td>\n",
       "      <td>Fires</td>\n",
       "      <td>4</td>\n",
       "      <td>Afghanistan</td>\n",
       "      <td>7246</td>\n",
       "      <td>Burned Area</td>\n",
       "      <td>6796</td>\n",
       "      <td>Humid tropical forest</td>\n",
       "      <td>1990</td>\n",
       "      <td>1990</td>\n",
       "      <td>3050</td>\n",
       "      <td>FAO TIER 1</td>\n",
       "      <td>ha</td>\n",
       "      <td>0.0</td>\n",
       "      <td>E</td>\n",
       "      <td>Estimated value</td>\n",
       "      <td>NaN</td>\n",
       "    </tr>\n",
       "    <tr>\n",
       "      <th>1</th>\n",
       "      <td>GI</td>\n",
       "      <td>Fires</td>\n",
       "      <td>4</td>\n",
       "      <td>Afghanistan</td>\n",
       "      <td>7246</td>\n",
       "      <td>Burned Area</td>\n",
       "      <td>6796</td>\n",
       "      <td>Humid tropical forest</td>\n",
       "      <td>1991</td>\n",
       "      <td>1991</td>\n",
       "      <td>3050</td>\n",
       "      <td>FAO TIER 1</td>\n",
       "      <td>ha</td>\n",
       "      <td>0.0</td>\n",
       "      <td>E</td>\n",
       "      <td>Estimated value</td>\n",
       "      <td>NaN</td>\n",
       "    </tr>\n",
       "    <tr>\n",
       "      <th>2</th>\n",
       "      <td>GI</td>\n",
       "      <td>Fires</td>\n",
       "      <td>4</td>\n",
       "      <td>Afghanistan</td>\n",
       "      <td>7246</td>\n",
       "      <td>Burned Area</td>\n",
       "      <td>6796</td>\n",
       "      <td>Humid tropical forest</td>\n",
       "      <td>1992</td>\n",
       "      <td>1992</td>\n",
       "      <td>3050</td>\n",
       "      <td>FAO TIER 1</td>\n",
       "      <td>ha</td>\n",
       "      <td>0.0</td>\n",
       "      <td>E</td>\n",
       "      <td>Estimated value</td>\n",
       "      <td>NaN</td>\n",
       "    </tr>\n",
       "    <tr>\n",
       "      <th>3</th>\n",
       "      <td>GI</td>\n",
       "      <td>Fires</td>\n",
       "      <td>4</td>\n",
       "      <td>Afghanistan</td>\n",
       "      <td>7246</td>\n",
       "      <td>Burned Area</td>\n",
       "      <td>6796</td>\n",
       "      <td>Humid tropical forest</td>\n",
       "      <td>1993</td>\n",
       "      <td>1993</td>\n",
       "      <td>3050</td>\n",
       "      <td>FAO TIER 1</td>\n",
       "      <td>ha</td>\n",
       "      <td>0.0</td>\n",
       "      <td>E</td>\n",
       "      <td>Estimated value</td>\n",
       "      <td>NaN</td>\n",
       "    </tr>\n",
       "    <tr>\n",
       "      <th>4</th>\n",
       "      <td>GI</td>\n",
       "      <td>Fires</td>\n",
       "      <td>4</td>\n",
       "      <td>Afghanistan</td>\n",
       "      <td>7246</td>\n",
       "      <td>Burned Area</td>\n",
       "      <td>6796</td>\n",
       "      <td>Humid tropical forest</td>\n",
       "      <td>1994</td>\n",
       "      <td>1994</td>\n",
       "      <td>3050</td>\n",
       "      <td>FAO TIER 1</td>\n",
       "      <td>ha</td>\n",
       "      <td>0.0</td>\n",
       "      <td>E</td>\n",
       "      <td>Estimated value</td>\n",
       "      <td>NaN</td>\n",
       "    </tr>\n",
       "  </tbody>\n",
       "</table>\n",
       "</div>"
      ],
      "text/plain": [
       "  Domain Code Domain  Area Code (M49)         Area  Element Code      Element  \\\n",
       "0          GI  Fires                4  Afghanistan          7246  Burned Area   \n",
       "1          GI  Fires                4  Afghanistan          7246  Burned Area   \n",
       "2          GI  Fires                4  Afghanistan          7246  Burned Area   \n",
       "3          GI  Fires                4  Afghanistan          7246  Burned Area   \n",
       "4          GI  Fires                4  Afghanistan          7246  Burned Area   \n",
       "\n",
       "   Item Code                   Item  Year Code  Year  Source Code      Source  \\\n",
       "0       6796  Humid tropical forest       1990  1990         3050  FAO TIER 1   \n",
       "1       6796  Humid tropical forest       1991  1991         3050  FAO TIER 1   \n",
       "2       6796  Humid tropical forest       1992  1992         3050  FAO TIER 1   \n",
       "3       6796  Humid tropical forest       1993  1993         3050  FAO TIER 1   \n",
       "4       6796  Humid tropical forest       1994  1994         3050  FAO TIER 1   \n",
       "\n",
       "  Unit  Value Flag Flag Description  Note  \n",
       "0   ha    0.0    E  Estimated value   NaN  \n",
       "1   ha    0.0    E  Estimated value   NaN  \n",
       "2   ha    0.0    E  Estimated value   NaN  \n",
       "3   ha    0.0    E  Estimated value   NaN  \n",
       "4   ha    0.0    E  Estimated value   NaN  "
      ]
     },
     "execution_count": 56,
     "metadata": {},
     "output_type": "execute_result"
    }
   ],
   "source": [
    "df_fires.head()"
   ]
  },
  {
   "cell_type": "code",
   "execution_count": 57,
   "id": "272a23b5",
   "metadata": {},
   "outputs": [],
   "source": [
    "#Eliminar columnas\n",
    "df_fires = df_fires.drop(['Flag Description', 'Element',  'Domain', 'Area Code (M49)', 'Element Code','Source', 'Unit', 'Flag', 'Item Code', 'Year Code', 'Source Code', 'Note', 'Domain Code'], axis = 1)"
   ]
  },
  {
   "cell_type": "code",
   "execution_count": 58,
   "id": "f998674e",
   "metadata": {},
   "outputs": [],
   "source": [
    "# Añadir etiqueta de valor a value\n",
    "df_fires[\"Value\"] = df_fires[\"Value\"].astype(str) + \" Ha\""
   ]
  },
  {
   "cell_type": "code",
   "execution_count": 59,
   "id": "956fe9eb",
   "metadata": {},
   "outputs": [],
   "source": [
    "#Renombrar y reindexar\n",
    "df_fires = df_fires.rename(columns = {'Area' : 'Country'})\n",
    "df_fires = df_fires.reindex(columns = ['Year', 'Country', 'Value'])"
   ]
  },
  {
   "cell_type": "code",
   "execution_count": 60,
   "id": "a2c9d8f9",
   "metadata": {},
   "outputs": [],
   "source": [
    "#Guardar csv\n",
    "df_fires.to_csv('../data/df_fires.csv')"
   ]
  },
  {
   "cell_type": "code",
   "execution_count": 62,
   "id": "228fd0f1",
   "metadata": {},
   "outputs": [
    {
     "data": {
      "text/html": [
       "<div>\n",
       "<style scoped>\n",
       "    .dataframe tbody tr th:only-of-type {\n",
       "        vertical-align: middle;\n",
       "    }\n",
       "\n",
       "    .dataframe tbody tr th {\n",
       "        vertical-align: top;\n",
       "    }\n",
       "\n",
       "    .dataframe thead th {\n",
       "        text-align: right;\n",
       "    }\n",
       "</style>\n",
       "<table border=\"1\" class=\"dataframe\">\n",
       "  <thead>\n",
       "    <tr style=\"text-align: right;\">\n",
       "      <th></th>\n",
       "      <th>Year</th>\n",
       "      <th>Country</th>\n",
       "      <th>Value</th>\n",
       "    </tr>\n",
       "  </thead>\n",
       "  <tbody>\n",
       "    <tr>\n",
       "      <th>43057</th>\n",
       "      <td>1990</td>\n",
       "      <td>Spain</td>\n",
       "      <td>0.0 Ha</td>\n",
       "    </tr>\n",
       "    <tr>\n",
       "      <th>43058</th>\n",
       "      <td>1991</td>\n",
       "      <td>Spain</td>\n",
       "      <td>0.0 Ha</td>\n",
       "    </tr>\n",
       "    <tr>\n",
       "      <th>43059</th>\n",
       "      <td>1992</td>\n",
       "      <td>Spain</td>\n",
       "      <td>0.0 Ha</td>\n",
       "    </tr>\n",
       "    <tr>\n",
       "      <th>43060</th>\n",
       "      <td>1993</td>\n",
       "      <td>Spain</td>\n",
       "      <td>0.0 Ha</td>\n",
       "    </tr>\n",
       "    <tr>\n",
       "      <th>43061</th>\n",
       "      <td>1994</td>\n",
       "      <td>Spain</td>\n",
       "      <td>0.0 Ha</td>\n",
       "    </tr>\n",
       "    <tr>\n",
       "      <th>...</th>\n",
       "      <td>...</td>\n",
       "      <td>...</td>\n",
       "      <td>...</td>\n",
       "    </tr>\n",
       "    <tr>\n",
       "      <th>43276</th>\n",
       "      <td>2017</td>\n",
       "      <td>Spain</td>\n",
       "      <td>59687.1673 Ha</td>\n",
       "    </tr>\n",
       "    <tr>\n",
       "      <th>43277</th>\n",
       "      <td>2018</td>\n",
       "      <td>Spain</td>\n",
       "      <td>1849.0843 Ha</td>\n",
       "    </tr>\n",
       "    <tr>\n",
       "      <th>43278</th>\n",
       "      <td>2019</td>\n",
       "      <td>Spain</td>\n",
       "      <td>8772.3407 Ha</td>\n",
       "    </tr>\n",
       "    <tr>\n",
       "      <th>43279</th>\n",
       "      <td>2020</td>\n",
       "      <td>Spain</td>\n",
       "      <td>11243.536 Ha</td>\n",
       "    </tr>\n",
       "    <tr>\n",
       "      <th>43280</th>\n",
       "      <td>2021</td>\n",
       "      <td>Spain</td>\n",
       "      <td>6575.9979 Ha</td>\n",
       "    </tr>\n",
       "  </tbody>\n",
       "</table>\n",
       "<p>224 rows × 3 columns</p>\n",
       "</div>"
      ],
      "text/plain": [
       "       Year Country          Value\n",
       "43057  1990   Spain         0.0 Ha\n",
       "43058  1991   Spain         0.0 Ha\n",
       "43059  1992   Spain         0.0 Ha\n",
       "43060  1993   Spain         0.0 Ha\n",
       "43061  1994   Spain         0.0 Ha\n",
       "...     ...     ...            ...\n",
       "43276  2017   Spain  59687.1673 Ha\n",
       "43277  2018   Spain   1849.0843 Ha\n",
       "43278  2019   Spain   8772.3407 Ha\n",
       "43279  2020   Spain   11243.536 Ha\n",
       "43280  2021   Spain   6575.9979 Ha\n",
       "\n",
       "[224 rows x 3 columns]"
      ]
     },
     "execution_count": 62,
     "metadata": {},
     "output_type": "execute_result"
    }
   ],
   "source": [
    "df_fires[df_fires['Country'] == 'Spain']"
   ]
  },
  {
   "cell_type": "markdown",
   "id": "5d27bafa",
   "metadata": {},
   "source": [
    "# Cleaning df_agri"
   ]
  },
  {
   "cell_type": "code",
   "execution_count": 63,
   "id": "eecce472",
   "metadata": {},
   "outputs": [
    {
     "data": {
      "text/html": [
       "<div>\n",
       "<style scoped>\n",
       "    .dataframe tbody tr th:only-of-type {\n",
       "        vertical-align: middle;\n",
       "    }\n",
       "\n",
       "    .dataframe tbody tr th {\n",
       "        vertical-align: top;\n",
       "    }\n",
       "\n",
       "    .dataframe thead th {\n",
       "        text-align: right;\n",
       "    }\n",
       "</style>\n",
       "<table border=\"1\" class=\"dataframe\">\n",
       "  <thead>\n",
       "    <tr style=\"text-align: right;\">\n",
       "      <th></th>\n",
       "      <th>Domain Code</th>\n",
       "      <th>Domain</th>\n",
       "      <th>Area Code (M49)</th>\n",
       "      <th>Area</th>\n",
       "      <th>Element Code</th>\n",
       "      <th>Element</th>\n",
       "      <th>Item Code</th>\n",
       "      <th>Item</th>\n",
       "      <th>Year Code</th>\n",
       "      <th>Year</th>\n",
       "      <th>Unit</th>\n",
       "      <th>Value</th>\n",
       "      <th>Flag</th>\n",
       "      <th>Flag Description</th>\n",
       "    </tr>\n",
       "  </thead>\n",
       "  <tbody>\n",
       "    <tr>\n",
       "      <th>0</th>\n",
       "      <td>EL</td>\n",
       "      <td>Land use indicators</td>\n",
       "      <td>4</td>\n",
       "      <td>Afghanistan</td>\n",
       "      <td>7209</td>\n",
       "      <td>Share in Land area</td>\n",
       "      <td>6610</td>\n",
       "      <td>Agricultural land</td>\n",
       "      <td>1980</td>\n",
       "      <td>1980</td>\n",
       "      <td>%</td>\n",
       "      <td>58.34</td>\n",
       "      <td>E</td>\n",
       "      <td>Estimated value</td>\n",
       "    </tr>\n",
       "    <tr>\n",
       "      <th>1</th>\n",
       "      <td>EL</td>\n",
       "      <td>Land use indicators</td>\n",
       "      <td>4</td>\n",
       "      <td>Afghanistan</td>\n",
       "      <td>7209</td>\n",
       "      <td>Share in Land area</td>\n",
       "      <td>6610</td>\n",
       "      <td>Agricultural land</td>\n",
       "      <td>1981</td>\n",
       "      <td>1981</td>\n",
       "      <td>%</td>\n",
       "      <td>58.34</td>\n",
       "      <td>E</td>\n",
       "      <td>Estimated value</td>\n",
       "    </tr>\n",
       "    <tr>\n",
       "      <th>2</th>\n",
       "      <td>EL</td>\n",
       "      <td>Land use indicators</td>\n",
       "      <td>4</td>\n",
       "      <td>Afghanistan</td>\n",
       "      <td>7209</td>\n",
       "      <td>Share in Land area</td>\n",
       "      <td>6610</td>\n",
       "      <td>Agricultural land</td>\n",
       "      <td>1982</td>\n",
       "      <td>1982</td>\n",
       "      <td>%</td>\n",
       "      <td>58.34</td>\n",
       "      <td>E</td>\n",
       "      <td>Estimated value</td>\n",
       "    </tr>\n",
       "    <tr>\n",
       "      <th>3</th>\n",
       "      <td>EL</td>\n",
       "      <td>Land use indicators</td>\n",
       "      <td>4</td>\n",
       "      <td>Afghanistan</td>\n",
       "      <td>7209</td>\n",
       "      <td>Share in Land area</td>\n",
       "      <td>6610</td>\n",
       "      <td>Agricultural land</td>\n",
       "      <td>1983</td>\n",
       "      <td>1983</td>\n",
       "      <td>%</td>\n",
       "      <td>58.34</td>\n",
       "      <td>E</td>\n",
       "      <td>Estimated value</td>\n",
       "    </tr>\n",
       "    <tr>\n",
       "      <th>4</th>\n",
       "      <td>EL</td>\n",
       "      <td>Land use indicators</td>\n",
       "      <td>4</td>\n",
       "      <td>Afghanistan</td>\n",
       "      <td>7209</td>\n",
       "      <td>Share in Land area</td>\n",
       "      <td>6610</td>\n",
       "      <td>Agricultural land</td>\n",
       "      <td>1984</td>\n",
       "      <td>1984</td>\n",
       "      <td>%</td>\n",
       "      <td>58.34</td>\n",
       "      <td>E</td>\n",
       "      <td>Estimated value</td>\n",
       "    </tr>\n",
       "  </tbody>\n",
       "</table>\n",
       "</div>"
      ],
      "text/plain": [
       "  Domain Code               Domain  Area Code (M49)         Area  \\\n",
       "0          EL  Land use indicators                4  Afghanistan   \n",
       "1          EL  Land use indicators                4  Afghanistan   \n",
       "2          EL  Land use indicators                4  Afghanistan   \n",
       "3          EL  Land use indicators                4  Afghanistan   \n",
       "4          EL  Land use indicators                4  Afghanistan   \n",
       "\n",
       "   Element Code             Element  Item Code               Item  Year Code  \\\n",
       "0          7209  Share in Land area       6610  Agricultural land       1980   \n",
       "1          7209  Share in Land area       6610  Agricultural land       1981   \n",
       "2          7209  Share in Land area       6610  Agricultural land       1982   \n",
       "3          7209  Share in Land area       6610  Agricultural land       1983   \n",
       "4          7209  Share in Land area       6610  Agricultural land       1984   \n",
       "\n",
       "   Year Unit  Value Flag Flag Description  \n",
       "0  1980    %  58.34    E  Estimated value  \n",
       "1  1981    %  58.34    E  Estimated value  \n",
       "2  1982    %  58.34    E  Estimated value  \n",
       "3  1983    %  58.34    E  Estimated value  \n",
       "4  1984    %  58.34    E  Estimated value  "
      ]
     },
     "execution_count": 63,
     "metadata": {},
     "output_type": "execute_result"
    }
   ],
   "source": [
    "df_agri.head()"
   ]
  },
  {
   "cell_type": "code",
   "execution_count": 64,
   "id": "426f6787",
   "metadata": {},
   "outputs": [],
   "source": [
    "#ELiminar columnas, renombrarlas, reordenarlas y añadir elementos\n",
    "df_agri = df_agri.drop(['Domain Code','Element', 'Domain', 'Area Code (M49)', 'Element Code', 'Item Code', 'Year Code', 'Unit', 'Flag', 'Flag Description'], axis = 1)\n",
    "df_agri = df_agri.rename(columns = {'Area' : 'Country', 'Item' : 'Indicators'})\n",
    "df_agri['Value'] = df_agri['Value'].astype(str) + ' %'\n",
    "df_agri = df_agri.reindex(columns = ['Year', 'Country', 'Indicators', 'Value'])\n"
   ]
  },
  {
   "cell_type": "code",
   "execution_count": 65,
   "id": "094f5f55",
   "metadata": {},
   "outputs": [],
   "source": [
    "#Seleccionar datos para el modelo\n",
    "df_agri_model = df_agri[(df_agri['Indicators'] == 'Forest Land') | \n",
    "                              (df_agri['Indicators'] == 'Agricultural land') | \n",
    "                              (df_agri['Indicators'] == 'Agriculture area under organic agric.')]"
   ]
  },
  {
   "cell_type": "code",
   "execution_count": 66,
   "id": "8f28517d",
   "metadata": {},
   "outputs": [],
   "source": [
    "#Guardar csv\n",
    "df_agri.to_csv('../data/df_agri.csv')\n",
    "df_agri_model.to_csv('../data/df_agri_model.csv')"
   ]
  },
  {
   "cell_type": "markdown",
   "id": "93b2585e",
   "metadata": {},
   "source": [
    "# Cleaning df_emissions_origen"
   ]
  },
  {
   "cell_type": "code",
   "execution_count": 106,
   "id": "470a929c",
   "metadata": {},
   "outputs": [
    {
     "data": {
      "text/html": [
       "<div>\n",
       "<style scoped>\n",
       "    .dataframe tbody tr th:only-of-type {\n",
       "        vertical-align: middle;\n",
       "    }\n",
       "\n",
       "    .dataframe tbody tr th {\n",
       "        vertical-align: top;\n",
       "    }\n",
       "\n",
       "    .dataframe thead th {\n",
       "        text-align: right;\n",
       "    }\n",
       "</style>\n",
       "<table border=\"1\" class=\"dataframe\">\n",
       "  <thead>\n",
       "    <tr style=\"text-align: right;\">\n",
       "      <th></th>\n",
       "      <th>Domain Code</th>\n",
       "      <th>Domain</th>\n",
       "      <th>Area Code (M49)</th>\n",
       "      <th>Area</th>\n",
       "      <th>Element Code</th>\n",
       "      <th>Element</th>\n",
       "      <th>Item Code</th>\n",
       "      <th>Item</th>\n",
       "      <th>Year Code</th>\n",
       "      <th>Year</th>\n",
       "      <th>Unit</th>\n",
       "      <th>Value</th>\n",
       "      <th>Flag</th>\n",
       "      <th>Flag Description</th>\n",
       "    </tr>\n",
       "  </thead>\n",
       "  <tbody>\n",
       "    <tr>\n",
       "      <th>0</th>\n",
       "      <td>EM</td>\n",
       "      <td>Emissions shares</td>\n",
       "      <td>4</td>\n",
       "      <td>Afghanistan</td>\n",
       "      <td>7264</td>\n",
       "      <td>Emissions Share (CO2)</td>\n",
       "      <td>6996</td>\n",
       "      <td>Farm gate</td>\n",
       "      <td>1990</td>\n",
       "      <td>1990</td>\n",
       "      <td>%</td>\n",
       "      <td>72.2771</td>\n",
       "      <td>E</td>\n",
       "      <td>Estimated value</td>\n",
       "    </tr>\n",
       "    <tr>\n",
       "      <th>1</th>\n",
       "      <td>EM</td>\n",
       "      <td>Emissions shares</td>\n",
       "      <td>4</td>\n",
       "      <td>Afghanistan</td>\n",
       "      <td>7264</td>\n",
       "      <td>Emissions Share (CO2)</td>\n",
       "      <td>6996</td>\n",
       "      <td>Farm gate</td>\n",
       "      <td>1991</td>\n",
       "      <td>1991</td>\n",
       "      <td>%</td>\n",
       "      <td>103.1012</td>\n",
       "      <td>E</td>\n",
       "      <td>Estimated value</td>\n",
       "    </tr>\n",
       "    <tr>\n",
       "      <th>2</th>\n",
       "      <td>EM</td>\n",
       "      <td>Emissions shares</td>\n",
       "      <td>4</td>\n",
       "      <td>Afghanistan</td>\n",
       "      <td>7264</td>\n",
       "      <td>Emissions Share (CO2)</td>\n",
       "      <td>6996</td>\n",
       "      <td>Farm gate</td>\n",
       "      <td>1992</td>\n",
       "      <td>1992</td>\n",
       "      <td>%</td>\n",
       "      <td>-7.8862</td>\n",
       "      <td>E</td>\n",
       "      <td>Estimated value</td>\n",
       "    </tr>\n",
       "    <tr>\n",
       "      <th>3</th>\n",
       "      <td>EM</td>\n",
       "      <td>Emissions shares</td>\n",
       "      <td>4</td>\n",
       "      <td>Afghanistan</td>\n",
       "      <td>7264</td>\n",
       "      <td>Emissions Share (CO2)</td>\n",
       "      <td>6996</td>\n",
       "      <td>Farm gate</td>\n",
       "      <td>1993</td>\n",
       "      <td>1993</td>\n",
       "      <td>%</td>\n",
       "      <td>-5.9066</td>\n",
       "      <td>E</td>\n",
       "      <td>Estimated value</td>\n",
       "    </tr>\n",
       "    <tr>\n",
       "      <th>4</th>\n",
       "      <td>EM</td>\n",
       "      <td>Emissions shares</td>\n",
       "      <td>4</td>\n",
       "      <td>Afghanistan</td>\n",
       "      <td>7264</td>\n",
       "      <td>Emissions Share (CO2)</td>\n",
       "      <td>6996</td>\n",
       "      <td>Farm gate</td>\n",
       "      <td>1994</td>\n",
       "      <td>1994</td>\n",
       "      <td>%</td>\n",
       "      <td>-4.5758</td>\n",
       "      <td>E</td>\n",
       "      <td>Estimated value</td>\n",
       "    </tr>\n",
       "  </tbody>\n",
       "</table>\n",
       "</div>"
      ],
      "text/plain": [
       "  Domain Code            Domain  Area Code (M49)         Area  Element Code  \\\n",
       "0          EM  Emissions shares                4  Afghanistan          7264   \n",
       "1          EM  Emissions shares                4  Afghanistan          7264   \n",
       "2          EM  Emissions shares                4  Afghanistan          7264   \n",
       "3          EM  Emissions shares                4  Afghanistan          7264   \n",
       "4          EM  Emissions shares                4  Afghanistan          7264   \n",
       "\n",
       "                 Element  Item Code       Item  Year Code  Year Unit  \\\n",
       "0  Emissions Share (CO2)       6996  Farm gate       1990  1990    %   \n",
       "1  Emissions Share (CO2)       6996  Farm gate       1991  1991    %   \n",
       "2  Emissions Share (CO2)       6996  Farm gate       1992  1992    %   \n",
       "3  Emissions Share (CO2)       6996  Farm gate       1993  1993    %   \n",
       "4  Emissions Share (CO2)       6996  Farm gate       1994  1994    %   \n",
       "\n",
       "      Value Flag Flag Description  \n",
       "0   72.2771    E  Estimated value  \n",
       "1  103.1012    E  Estimated value  \n",
       "2   -7.8862    E  Estimated value  \n",
       "3   -5.9066    E  Estimated value  \n",
       "4   -4.5758    E  Estimated value  "
      ]
     },
     "execution_count": 106,
     "metadata": {},
     "output_type": "execute_result"
    }
   ],
   "source": [
    "df_emissions_origen.head()"
   ]
  },
  {
   "cell_type": "code",
   "execution_count": 107,
   "id": "74ab9c53",
   "metadata": {},
   "outputs": [],
   "source": [
    "#Eliminar columnas\n",
    "df_emissions_origen = df_emissions_origen.drop(['Domain', 'Domain Code', 'Area Code (M49)', 'Element Code', 'Item Code', 'Unit', 'Year Code', 'Flag', 'Flag Description'], axis = 1)"
   ]
  },
  {
   "cell_type": "code",
   "execution_count": 108,
   "id": "342c47b4",
   "metadata": {},
   "outputs": [
    {
     "data": {
      "text/html": [
       "<div>\n",
       "<style scoped>\n",
       "    .dataframe tbody tr th:only-of-type {\n",
       "        vertical-align: middle;\n",
       "    }\n",
       "\n",
       "    .dataframe tbody tr th {\n",
       "        vertical-align: top;\n",
       "    }\n",
       "\n",
       "    .dataframe thead th {\n",
       "        text-align: right;\n",
       "    }\n",
       "</style>\n",
       "<table border=\"1\" class=\"dataframe\">\n",
       "  <thead>\n",
       "    <tr style=\"text-align: right;\">\n",
       "      <th></th>\n",
       "      <th>Area</th>\n",
       "      <th>Element</th>\n",
       "      <th>Item</th>\n",
       "      <th>Year</th>\n",
       "      <th>Value</th>\n",
       "    </tr>\n",
       "  </thead>\n",
       "  <tbody>\n",
       "    <tr>\n",
       "      <th>0</th>\n",
       "      <td>Afghanistan</td>\n",
       "      <td>Emissions Share (CO2)</td>\n",
       "      <td>Farm gate</td>\n",
       "      <td>1990</td>\n",
       "      <td>72.2771</td>\n",
       "    </tr>\n",
       "    <tr>\n",
       "      <th>1</th>\n",
       "      <td>Afghanistan</td>\n",
       "      <td>Emissions Share (CO2)</td>\n",
       "      <td>Farm gate</td>\n",
       "      <td>1991</td>\n",
       "      <td>103.1012</td>\n",
       "    </tr>\n",
       "    <tr>\n",
       "      <th>2</th>\n",
       "      <td>Afghanistan</td>\n",
       "      <td>Emissions Share (CO2)</td>\n",
       "      <td>Farm gate</td>\n",
       "      <td>1992</td>\n",
       "      <td>-7.8862</td>\n",
       "    </tr>\n",
       "    <tr>\n",
       "      <th>3</th>\n",
       "      <td>Afghanistan</td>\n",
       "      <td>Emissions Share (CO2)</td>\n",
       "      <td>Farm gate</td>\n",
       "      <td>1993</td>\n",
       "      <td>-5.9066</td>\n",
       "    </tr>\n",
       "    <tr>\n",
       "      <th>4</th>\n",
       "      <td>Afghanistan</td>\n",
       "      <td>Emissions Share (CO2)</td>\n",
       "      <td>Farm gate</td>\n",
       "      <td>1994</td>\n",
       "      <td>-4.5758</td>\n",
       "    </tr>\n",
       "  </tbody>\n",
       "</table>\n",
       "</div>"
      ],
      "text/plain": [
       "          Area                Element       Item  Year     Value\n",
       "0  Afghanistan  Emissions Share (CO2)  Farm gate  1990   72.2771\n",
       "1  Afghanistan  Emissions Share (CO2)  Farm gate  1991  103.1012\n",
       "2  Afghanistan  Emissions Share (CO2)  Farm gate  1992   -7.8862\n",
       "3  Afghanistan  Emissions Share (CO2)  Farm gate  1993   -5.9066\n",
       "4  Afghanistan  Emissions Share (CO2)  Farm gate  1994   -4.5758"
      ]
     },
     "execution_count": 108,
     "metadata": {},
     "output_type": "execute_result"
    }
   ],
   "source": [
    "df_emissions_origen.head()"
   ]
  },
  {
   "cell_type": "code",
   "execution_count": 109,
   "id": "851be7ca",
   "metadata": {},
   "outputs": [],
   "source": [
    "#Limpiar, renombrar y reindexar mi dataframe\n",
    "df_emissions_origen = df_emissions_origen.rename(columns = {'Area' : 'Country', 'Item' : 'Indicators'})\n",
    "df_emissions_origen['Value'] = df_emissions_origen['Value'].astype(str) + ' %'\n",
    "df_emissions_origen = df_emissions_origen.reindex(columns = ['Year', 'Country', 'Element', 'Indicators','Value'])"
   ]
  },
  {
   "cell_type": "code",
   "execution_count": 110,
   "id": "1f9029a4",
   "metadata": {},
   "outputs": [
    {
     "data": {
      "text/html": [
       "<div>\n",
       "<style scoped>\n",
       "    .dataframe tbody tr th:only-of-type {\n",
       "        vertical-align: middle;\n",
       "    }\n",
       "\n",
       "    .dataframe tbody tr th {\n",
       "        vertical-align: top;\n",
       "    }\n",
       "\n",
       "    .dataframe thead th {\n",
       "        text-align: right;\n",
       "    }\n",
       "</style>\n",
       "<table border=\"1\" class=\"dataframe\">\n",
       "  <thead>\n",
       "    <tr style=\"text-align: right;\">\n",
       "      <th></th>\n",
       "      <th>Year</th>\n",
       "      <th>Country</th>\n",
       "      <th>Element</th>\n",
       "      <th>Indicators</th>\n",
       "      <th>Value</th>\n",
       "    </tr>\n",
       "  </thead>\n",
       "  <tbody>\n",
       "    <tr>\n",
       "      <th>0</th>\n",
       "      <td>1990</td>\n",
       "      <td>Afghanistan</td>\n",
       "      <td>Emissions Share (CO2)</td>\n",
       "      <td>Farm gate</td>\n",
       "      <td>72.2771 %</td>\n",
       "    </tr>\n",
       "    <tr>\n",
       "      <th>1</th>\n",
       "      <td>1991</td>\n",
       "      <td>Afghanistan</td>\n",
       "      <td>Emissions Share (CO2)</td>\n",
       "      <td>Farm gate</td>\n",
       "      <td>103.1012 %</td>\n",
       "    </tr>\n",
       "    <tr>\n",
       "      <th>2</th>\n",
       "      <td>1992</td>\n",
       "      <td>Afghanistan</td>\n",
       "      <td>Emissions Share (CO2)</td>\n",
       "      <td>Farm gate</td>\n",
       "      <td>-7.8862 %</td>\n",
       "    </tr>\n",
       "    <tr>\n",
       "      <th>3</th>\n",
       "      <td>1993</td>\n",
       "      <td>Afghanistan</td>\n",
       "      <td>Emissions Share (CO2)</td>\n",
       "      <td>Farm gate</td>\n",
       "      <td>-5.9066 %</td>\n",
       "    </tr>\n",
       "    <tr>\n",
       "      <th>4</th>\n",
       "      <td>1994</td>\n",
       "      <td>Afghanistan</td>\n",
       "      <td>Emissions Share (CO2)</td>\n",
       "      <td>Farm gate</td>\n",
       "      <td>-4.5758 %</td>\n",
       "    </tr>\n",
       "  </tbody>\n",
       "</table>\n",
       "</div>"
      ],
      "text/plain": [
       "   Year      Country                Element Indicators       Value\n",
       "0  1990  Afghanistan  Emissions Share (CO2)  Farm gate   72.2771 %\n",
       "1  1991  Afghanistan  Emissions Share (CO2)  Farm gate  103.1012 %\n",
       "2  1992  Afghanistan  Emissions Share (CO2)  Farm gate   -7.8862 %\n",
       "3  1993  Afghanistan  Emissions Share (CO2)  Farm gate   -5.9066 %\n",
       "4  1994  Afghanistan  Emissions Share (CO2)  Farm gate   -4.5758 %"
      ]
     },
     "execution_count": 110,
     "metadata": {},
     "output_type": "execute_result"
    }
   ],
   "source": [
    "df_emissions_origen.head()"
   ]
  },
  {
   "cell_type": "code",
   "execution_count": 111,
   "id": "9a630ed0",
   "metadata": {},
   "outputs": [],
   "source": [
    "#Selección de datos para modelo\n",
    "df_emissions_origen_model = df_emissions_origen[(df_emissions_origen['Indicators'] == 'Emissions on agricultural land') |\n",
    "                                                (df_emissions_origen['Indicators'] == 'Energy') | \n",
    "                                                (df_emissions_origen['Indicators'] == 'Waste')]"
   ]
  },
  {
   "cell_type": "code",
   "execution_count": 113,
   "id": "79418a3a",
   "metadata": {},
   "outputs": [
    {
     "data": {
      "text/plain": [
       "array(['Farm gate', 'Pre- and post- production',\n",
       "       'Emissions on agricultural land', 'Energy', 'Waste'], dtype=object)"
      ]
     },
     "execution_count": 113,
     "metadata": {},
     "output_type": "execute_result"
    }
   ],
   "source": [
    "df_emissions_origen['Indicators'].unique()"
   ]
  },
  {
   "cell_type": "code",
   "execution_count": 112,
   "id": "48090682",
   "metadata": {},
   "outputs": [],
   "source": [
    "#Guardar csv\n",
    "df_emissions_origen.to_csv('../data/df_emissions_origen.csv')\n",
    "df_emissions_origen_model.to_csv('../data/df_emissions_origen_model.csv')"
   ]
  },
  {
   "cell_type": "markdown",
   "id": "1c41737a",
   "metadata": {},
   "source": [
    "# Cleaning df_emisiones"
   ]
  },
  {
   "cell_type": "code",
   "execution_count": 114,
   "id": "e3e54f97",
   "metadata": {},
   "outputs": [
    {
     "data": {
      "text/html": [
       "<div>\n",
       "<style scoped>\n",
       "    .dataframe tbody tr th:only-of-type {\n",
       "        vertical-align: middle;\n",
       "    }\n",
       "\n",
       "    .dataframe tbody tr th {\n",
       "        vertical-align: top;\n",
       "    }\n",
       "\n",
       "    .dataframe thead th {\n",
       "        text-align: right;\n",
       "    }\n",
       "</style>\n",
       "<table border=\"1\" class=\"dataframe\">\n",
       "  <thead>\n",
       "    <tr style=\"text-align: right;\">\n",
       "      <th></th>\n",
       "      <th>iso_code</th>\n",
       "      <th>country</th>\n",
       "      <th>year</th>\n",
       "      <th>co2</th>\n",
       "      <th>consumption_co2</th>\n",
       "      <th>co2_growth_prct</th>\n",
       "      <th>co2_growth_abs</th>\n",
       "      <th>trade_co2</th>\n",
       "      <th>co2_per_capita</th>\n",
       "      <th>consumption_co2_per_capita</th>\n",
       "      <th>...</th>\n",
       "      <th>ghg_per_capita</th>\n",
       "      <th>methane</th>\n",
       "      <th>methane_per_capita</th>\n",
       "      <th>nitrous_oxide</th>\n",
       "      <th>nitrous_oxide_per_capita</th>\n",
       "      <th>population</th>\n",
       "      <th>gdp</th>\n",
       "      <th>primary_energy_consumption</th>\n",
       "      <th>energy_per_capita</th>\n",
       "      <th>energy_per_gdp</th>\n",
       "    </tr>\n",
       "  </thead>\n",
       "  <tbody>\n",
       "    <tr>\n",
       "      <th>0</th>\n",
       "      <td>AFG</td>\n",
       "      <td>Afghanistan</td>\n",
       "      <td>1949</td>\n",
       "      <td>0.015</td>\n",
       "      <td>NaN</td>\n",
       "      <td>NaN</td>\n",
       "      <td>NaN</td>\n",
       "      <td>NaN</td>\n",
       "      <td>0.002</td>\n",
       "      <td>NaN</td>\n",
       "      <td>...</td>\n",
       "      <td>NaN</td>\n",
       "      <td>NaN</td>\n",
       "      <td>NaN</td>\n",
       "      <td>NaN</td>\n",
       "      <td>NaN</td>\n",
       "      <td>7624058.0</td>\n",
       "      <td>NaN</td>\n",
       "      <td>NaN</td>\n",
       "      <td>NaN</td>\n",
       "      <td>NaN</td>\n",
       "    </tr>\n",
       "    <tr>\n",
       "      <th>1</th>\n",
       "      <td>AFG</td>\n",
       "      <td>Afghanistan</td>\n",
       "      <td>1950</td>\n",
       "      <td>0.084</td>\n",
       "      <td>NaN</td>\n",
       "      <td>475.0</td>\n",
       "      <td>0.070</td>\n",
       "      <td>NaN</td>\n",
       "      <td>0.011</td>\n",
       "      <td>NaN</td>\n",
       "      <td>...</td>\n",
       "      <td>NaN</td>\n",
       "      <td>NaN</td>\n",
       "      <td>NaN</td>\n",
       "      <td>NaN</td>\n",
       "      <td>NaN</td>\n",
       "      <td>7752117.0</td>\n",
       "      <td>9.421400e+09</td>\n",
       "      <td>NaN</td>\n",
       "      <td>NaN</td>\n",
       "      <td>NaN</td>\n",
       "    </tr>\n",
       "    <tr>\n",
       "      <th>2</th>\n",
       "      <td>AFG</td>\n",
       "      <td>Afghanistan</td>\n",
       "      <td>1951</td>\n",
       "      <td>0.092</td>\n",
       "      <td>NaN</td>\n",
       "      <td>8.7</td>\n",
       "      <td>0.007</td>\n",
       "      <td>NaN</td>\n",
       "      <td>0.012</td>\n",
       "      <td>NaN</td>\n",
       "      <td>...</td>\n",
       "      <td>NaN</td>\n",
       "      <td>NaN</td>\n",
       "      <td>NaN</td>\n",
       "      <td>NaN</td>\n",
       "      <td>NaN</td>\n",
       "      <td>7840151.0</td>\n",
       "      <td>9.692280e+09</td>\n",
       "      <td>NaN</td>\n",
       "      <td>NaN</td>\n",
       "      <td>NaN</td>\n",
       "    </tr>\n",
       "    <tr>\n",
       "      <th>3</th>\n",
       "      <td>AFG</td>\n",
       "      <td>Afghanistan</td>\n",
       "      <td>1952</td>\n",
       "      <td>0.092</td>\n",
       "      <td>NaN</td>\n",
       "      <td>0.0</td>\n",
       "      <td>0.000</td>\n",
       "      <td>NaN</td>\n",
       "      <td>0.012</td>\n",
       "      <td>NaN</td>\n",
       "      <td>...</td>\n",
       "      <td>NaN</td>\n",
       "      <td>NaN</td>\n",
       "      <td>NaN</td>\n",
       "      <td>NaN</td>\n",
       "      <td>NaN</td>\n",
       "      <td>7935996.0</td>\n",
       "      <td>1.001732e+10</td>\n",
       "      <td>NaN</td>\n",
       "      <td>NaN</td>\n",
       "      <td>NaN</td>\n",
       "    </tr>\n",
       "    <tr>\n",
       "      <th>4</th>\n",
       "      <td>AFG</td>\n",
       "      <td>Afghanistan</td>\n",
       "      <td>1953</td>\n",
       "      <td>0.106</td>\n",
       "      <td>NaN</td>\n",
       "      <td>16.0</td>\n",
       "      <td>0.015</td>\n",
       "      <td>NaN</td>\n",
       "      <td>0.013</td>\n",
       "      <td>NaN</td>\n",
       "      <td>...</td>\n",
       "      <td>NaN</td>\n",
       "      <td>NaN</td>\n",
       "      <td>NaN</td>\n",
       "      <td>NaN</td>\n",
       "      <td>NaN</td>\n",
       "      <td>8039684.0</td>\n",
       "      <td>1.063052e+10</td>\n",
       "      <td>NaN</td>\n",
       "      <td>NaN</td>\n",
       "      <td>NaN</td>\n",
       "    </tr>\n",
       "  </tbody>\n",
       "</table>\n",
       "<p>5 rows × 58 columns</p>\n",
       "</div>"
      ],
      "text/plain": [
       "  iso_code      country  year    co2  consumption_co2  co2_growth_prct  \\\n",
       "0      AFG  Afghanistan  1949  0.015              NaN              NaN   \n",
       "1      AFG  Afghanistan  1950  0.084              NaN            475.0   \n",
       "2      AFG  Afghanistan  1951  0.092              NaN              8.7   \n",
       "3      AFG  Afghanistan  1952  0.092              NaN              0.0   \n",
       "4      AFG  Afghanistan  1953  0.106              NaN             16.0   \n",
       "\n",
       "   co2_growth_abs  trade_co2  co2_per_capita  consumption_co2_per_capita  ...  \\\n",
       "0             NaN        NaN           0.002                         NaN  ...   \n",
       "1           0.070        NaN           0.011                         NaN  ...   \n",
       "2           0.007        NaN           0.012                         NaN  ...   \n",
       "3           0.000        NaN           0.012                         NaN  ...   \n",
       "4           0.015        NaN           0.013                         NaN  ...   \n",
       "\n",
       "   ghg_per_capita  methane  methane_per_capita  nitrous_oxide  \\\n",
       "0             NaN      NaN                 NaN            NaN   \n",
       "1             NaN      NaN                 NaN            NaN   \n",
       "2             NaN      NaN                 NaN            NaN   \n",
       "3             NaN      NaN                 NaN            NaN   \n",
       "4             NaN      NaN                 NaN            NaN   \n",
       "\n",
       "   nitrous_oxide_per_capita  population           gdp  \\\n",
       "0                       NaN   7624058.0           NaN   \n",
       "1                       NaN   7752117.0  9.421400e+09   \n",
       "2                       NaN   7840151.0  9.692280e+09   \n",
       "3                       NaN   7935996.0  1.001732e+10   \n",
       "4                       NaN   8039684.0  1.063052e+10   \n",
       "\n",
       "   primary_energy_consumption  energy_per_capita  energy_per_gdp  \n",
       "0                         NaN                NaN             NaN  \n",
       "1                         NaN                NaN             NaN  \n",
       "2                         NaN                NaN             NaN  \n",
       "3                         NaN                NaN             NaN  \n",
       "4                         NaN                NaN             NaN  \n",
       "\n",
       "[5 rows x 58 columns]"
      ]
     },
     "execution_count": 114,
     "metadata": {},
     "output_type": "execute_result"
    }
   ],
   "source": [
    "df_emisiones.head()"
   ]
  },
  {
   "cell_type": "code",
   "execution_count": 115,
   "id": "791a0d4b",
   "metadata": {},
   "outputs": [
    {
     "data": {
      "text/plain": [
       "Index(['iso_code', 'country', 'year', 'co2', 'consumption_co2',\n",
       "       'co2_growth_prct', 'co2_growth_abs', 'trade_co2', 'co2_per_capita',\n",
       "       'consumption_co2_per_capita', 'share_global_co2', 'cumulative_co2',\n",
       "       'share_global_cumulative_co2', 'co2_per_gdp', 'consumption_co2_per_gdp',\n",
       "       'co2_per_unit_energy', 'coal_co2', 'cement_co2', 'flaring_co2',\n",
       "       'gas_co2', 'oil_co2', 'other_industry_co2', 'cement_co2_per_capita',\n",
       "       'coal_co2_per_capita', 'flaring_co2_per_capita', 'gas_co2_per_capita',\n",
       "       'oil_co2_per_capita', 'other_co2_per_capita', 'trade_co2_share',\n",
       "       'share_global_cement_co2', 'share_global_coal_co2',\n",
       "       'share_global_flaring_co2', 'share_global_gas_co2',\n",
       "       'share_global_oil_co2', 'share_global_other_co2',\n",
       "       'cumulative_cement_co2', 'cumulative_coal_co2',\n",
       "       'cumulative_flaring_co2', 'cumulative_gas_co2', 'cumulative_oil_co2',\n",
       "       'cumulative_other_co2', 'share_global_cumulative_cement_co2',\n",
       "       'share_global_cumulative_coal_co2',\n",
       "       'share_global_cumulative_flaring_co2',\n",
       "       'share_global_cumulative_gas_co2', 'share_global_cumulative_oil_co2',\n",
       "       'share_global_cumulative_other_co2', 'total_ghg', 'ghg_per_capita',\n",
       "       'methane', 'methane_per_capita', 'nitrous_oxide',\n",
       "       'nitrous_oxide_per_capita', 'population', 'gdp',\n",
       "       'primary_energy_consumption', 'energy_per_capita', 'energy_per_gdp'],\n",
       "      dtype='object')"
      ]
     },
     "execution_count": 115,
     "metadata": {},
     "output_type": "execute_result"
    }
   ],
   "source": [
    "df_emisiones.columns"
   ]
  },
  {
   "cell_type": "code",
   "execution_count": 116,
   "id": "61bd3f7e",
   "metadata": {},
   "outputs": [],
   "source": [
    "df_emisiones = df_emisiones.rename(columns = {'country' : 'Country', 'year' : 'Year'})\n",
    "df_emisiones = df_emisiones.drop(columns = ['iso_code'])"
   ]
  },
  {
   "cell_type": "code",
   "execution_count": 117,
   "id": "b9d325f6",
   "metadata": {},
   "outputs": [],
   "source": [
    "df_emisiones = df_emisiones.melt(id_vars = ['Country', 'Year']).rename(columns = {'variable' : 'Indicators'})"
   ]
  },
  {
   "cell_type": "code",
   "execution_count": 118,
   "id": "65084061",
   "metadata": {},
   "outputs": [
    {
     "data": {
      "text/html": [
       "<div>\n",
       "<style scoped>\n",
       "    .dataframe tbody tr th:only-of-type {\n",
       "        vertical-align: middle;\n",
       "    }\n",
       "\n",
       "    .dataframe tbody tr th {\n",
       "        vertical-align: top;\n",
       "    }\n",
       "\n",
       "    .dataframe thead th {\n",
       "        text-align: right;\n",
       "    }\n",
       "</style>\n",
       "<table border=\"1\" class=\"dataframe\">\n",
       "  <thead>\n",
       "    <tr style=\"text-align: right;\">\n",
       "      <th></th>\n",
       "      <th>Country</th>\n",
       "      <th>Year</th>\n",
       "      <th>Indicators</th>\n",
       "      <th>value</th>\n",
       "    </tr>\n",
       "  </thead>\n",
       "  <tbody>\n",
       "    <tr>\n",
       "      <th>0</th>\n",
       "      <td>Afghanistan</td>\n",
       "      <td>1949</td>\n",
       "      <td>co2</td>\n",
       "      <td>0.015</td>\n",
       "    </tr>\n",
       "    <tr>\n",
       "      <th>1</th>\n",
       "      <td>Afghanistan</td>\n",
       "      <td>1950</td>\n",
       "      <td>co2</td>\n",
       "      <td>0.084</td>\n",
       "    </tr>\n",
       "    <tr>\n",
       "      <th>2</th>\n",
       "      <td>Afghanistan</td>\n",
       "      <td>1951</td>\n",
       "      <td>co2</td>\n",
       "      <td>0.092</td>\n",
       "    </tr>\n",
       "    <tr>\n",
       "      <th>3</th>\n",
       "      <td>Afghanistan</td>\n",
       "      <td>1952</td>\n",
       "      <td>co2</td>\n",
       "      <td>0.092</td>\n",
       "    </tr>\n",
       "    <tr>\n",
       "      <th>4</th>\n",
       "      <td>Afghanistan</td>\n",
       "      <td>1953</td>\n",
       "      <td>co2</td>\n",
       "      <td>0.106</td>\n",
       "    </tr>\n",
       "  </tbody>\n",
       "</table>\n",
       "</div>"
      ],
      "text/plain": [
       "       Country  Year Indicators  value\n",
       "0  Afghanistan  1949        co2  0.015\n",
       "1  Afghanistan  1950        co2  0.084\n",
       "2  Afghanistan  1951        co2  0.092\n",
       "3  Afghanistan  1952        co2  0.092\n",
       "4  Afghanistan  1953        co2  0.106"
      ]
     },
     "execution_count": 118,
     "metadata": {},
     "output_type": "execute_result"
    }
   ],
   "source": [
    "df_emisiones.head()"
   ]
  },
  {
   "cell_type": "code",
   "execution_count": 119,
   "id": "d28f4e88",
   "metadata": {},
   "outputs": [],
   "source": [
    "df_emisiones_model = df_emisiones[(df_emisiones['Indicators'] =='co2') | \n",
    "                                  (df_emisiones['Indicators'] =='coal_co2') | \n",
    "                                  (df_emisiones['Indicators'] =='cement_co2') | \n",
    "                                  (df_emisiones['Indicators'] =='flaring_co2') |\n",
    "                                  (df_emisiones['Indicators'] =='gas_co2') |\n",
    "                                  (df_emisiones['Indicators'] =='oil_co2') ]"
   ]
  },
  {
   "cell_type": "code",
   "execution_count": null,
   "id": "1c7329ec",
   "metadata": {},
   "outputs": [],
   "source": [
    "df_emisiones.to_csv('../data/df_emisiones')\n",
    "df_emisiones_model.to_csv('../data/df_emisiones_model.csv')"
   ]
  },
  {
   "cell_type": "code",
   "execution_count": null,
   "id": "0036f5af",
   "metadata": {},
   "outputs": [],
   "source": []
  },
  {
   "cell_type": "code",
   "execution_count": null,
   "id": "fbb129f5",
   "metadata": {},
   "outputs": [],
   "source": []
  },
  {
   "cell_type": "code",
   "execution_count": null,
   "id": "1a81d93a",
   "metadata": {},
   "outputs": [],
   "source": []
  },
  {
   "cell_type": "code",
   "execution_count": null,
   "id": "8a5bfe64",
   "metadata": {},
   "outputs": [],
   "source": []
  },
  {
   "cell_type": "markdown",
   "id": "55a6c378",
   "metadata": {},
   "source": [
    "https://data.giss.nasa.gov/gistemp/"
   ]
  },
  {
   "cell_type": "code",
   "execution_count": null,
   "id": "98eefb42",
   "metadata": {},
   "outputs": [],
   "source": [
    "df = pd.read_csv('../data/Nasa_temperature.csv')"
   ]
  },
  {
   "cell_type": "code",
   "execution_count": null,
   "id": "84a29f2e",
   "metadata": {},
   "outputs": [],
   "source": [
    "df.head()"
   ]
  },
  {
   "cell_type": "code",
   "execution_count": null,
   "id": "04e6706b",
   "metadata": {},
   "outputs": [],
   "source": []
  },
  {
   "cell_type": "markdown",
   "id": "d5bf4a80",
   "metadata": {},
   "source": [
    "https://aqicn.org/data-platform/register/"
   ]
  },
  {
   "cell_type": "code",
   "execution_count": null,
   "id": "518f5790",
   "metadata": {},
   "outputs": [],
   "source": [
    "df_1 = pd.read_csv('../data/madrid-air-quality.csv')"
   ]
  },
  {
   "cell_type": "code",
   "execution_count": null,
   "id": "2cb1caed",
   "metadata": {},
   "outputs": [],
   "source": [
    "df_1"
   ]
  },
  {
   "cell_type": "code",
   "execution_count": null,
   "id": "75026064",
   "metadata": {},
   "outputs": [],
   "source": [
    "df_2 = pd.read_csv('../data/new-york, usa-air-quality.csv')"
   ]
  },
  {
   "cell_type": "code",
   "execution_count": null,
   "id": "d266198e",
   "metadata": {},
   "outputs": [],
   "source": [
    "df_2"
   ]
  },
  {
   "cell_type": "code",
   "execution_count": null,
   "id": "77c27431",
   "metadata": {},
   "outputs": [],
   "source": [
    "df_3 = pd.read_csv('../data/shanghai-air-quality.csv')"
   ]
  },
  {
   "cell_type": "code",
   "execution_count": null,
   "id": "2dcbb481",
   "metadata": {},
   "outputs": [],
   "source": [
    "df_3"
   ]
  },
  {
   "cell_type": "code",
   "execution_count": null,
   "id": "cccb729c",
   "metadata": {},
   "outputs": [],
   "source": []
  },
  {
   "cell_type": "markdown",
   "id": "ae357054",
   "metadata": {},
   "source": [
    "http://aidef.apps.eea.europa.eu/"
   ]
  },
  {
   "cell_type": "code",
   "execution_count": null,
   "id": "34708c33",
   "metadata": {},
   "outputs": [],
   "source": [
    "df_4 = pd.read_csv('../data/data.csv')"
   ]
  },
  {
   "cell_type": "code",
   "execution_count": null,
   "id": "b710189e",
   "metadata": {},
   "outputs": [],
   "source": [
    "df_4.head()"
   ]
  },
  {
   "cell_type": "code",
   "execution_count": null,
   "id": "e9a73ed1",
   "metadata": {},
   "outputs": [],
   "source": [
    "df_4 = df_4.drop(['UpdateTime', 'SamplingPointLocalId', 'SamplingPoint_Latitude', 'SamplingPoint_Longitude', 'AggregationType', 'Namespace', 'Verification', 'Validity'],axis = 1)"
   ]
  },
  {
   "cell_type": "code",
   "execution_count": null,
   "id": "1bd6993d",
   "metadata": {},
   "outputs": [],
   "source": [
    "len(df_4)"
   ]
  },
  {
   "cell_type": "code",
   "execution_count": null,
   "id": "a24c71ff",
   "metadata": {},
   "outputs": [],
   "source": [
    "from IPython.display import HTML\n",
    "\n",
    "html = '<iframe src=\\'https://flo.uri.sh/visualisation/11783084/embed\\' title=\\'Interactive or visual content\\' class=\\'flourish-embed-iframe\\' frameborder=\\'0\\' scrolling=\\'no\\' style=\\'width:100%;height:600px;\\' sandbox=\\'allow-same-origin allow-forms allow-scripts allow-downloads allow-popups allow-popups-to-escape-sandbox allow-top-navigation-by-user-activation\\'></iframe>'\n",
    "\n",
    "HTML(html)\n"
   ]
  },
  {
   "cell_type": "code",
   "execution_count": null,
   "id": "eb7e83cb",
   "metadata": {},
   "outputs": [],
   "source": []
  },
  {
   "cell_type": "code",
   "execution_count": null,
   "id": "276e7b01",
   "metadata": {},
   "outputs": [],
   "source": [
    "html1 = '<iframe id=\"ep-chart-8a003cc7-fe0b-4740-82e7-5aba738b8c09\" src=\"https://www.epdata.es/embed/8a003cc7-fe0b-4740-82e7-5aba738b8c09/450\" style=\"width: 100%; min-height: 450px; overflow: hidden;\" frameborder=\"0\" scrolling=\"no\" height=\"450\"></iframe>'\n",
    "\n",
    "HTML(html1)\n"
   ]
  },
  {
   "cell_type": "code",
   "execution_count": null,
   "id": "79934330",
   "metadata": {},
   "outputs": [],
   "source": []
  },
  {
   "cell_type": "code",
   "execution_count": null,
   "id": "6db0cc47",
   "metadata": {},
   "outputs": [],
   "source": [
    "html2 = '<iframe id=\"ep-chart\" src=\"https://www.epdata.es/embed/f305b9e6-e82c-4a5f-bcd4-540107f66ec8/450\" style=\"width: 100%; min-height: 450px; overflow: hidden;\" frameborder=\"0\" scrolling=\"no\" height=\"450\"></iframe>'\n",
    "\n",
    "HTML(html2)"
   ]
  },
  {
   "cell_type": "code",
   "execution_count": null,
   "id": "c66f8853",
   "metadata": {},
   "outputs": [],
   "source": []
  },
  {
   "cell_type": "code",
   "execution_count": null,
   "id": "47e46394",
   "metadata": {},
   "outputs": [],
   "source": [
    "html3 = '<iframe id=\"ep-chart-7088de4d-2e2b-4145-ba91-45169773868a\" src=\"https://www.epdata.es/embed/7088de4d-2e2b-4145-ba91-45169773868a/450\" style=\"width: 100%; min-height: 450px; overflow: hidden;\" frameborder=\"0\" scrolling=\"no\" height=\"450\"></iframe>'\n",
    "HTML(html3)"
   ]
  },
  {
   "cell_type": "code",
   "execution_count": null,
   "id": "6f7e46cd",
   "metadata": {
    "scrolled": false
   },
   "outputs": [],
   "source": [
    "html4 = '<iframe id=\"ep-chart-9c096ffd-bf8d-4af8-9995-ebe135abe5cc\" src=\"https://www.epdata.es/embed/9c096ffd-bf8d-4af8-9995-ebe135abe5cc/450\" style=\"width: 100%; min-height: 450px; overflow: hidden;\" frameborder=\"0\" scrolling=\"no\" height=\"450\"></iframe>'\n",
    "HTML(html4)"
   ]
  },
  {
   "cell_type": "markdown",
   "id": "7f9860cc",
   "metadata": {},
   "source": [
    "# Cleaning df_gov"
   ]
  },
  {
   "cell_type": "code",
   "execution_count": null,
   "id": "82c06121",
   "metadata": {},
   "outputs": [],
   "source": [
    "df_gov = pd.read_csv('../data/Environmental_Protection_Expenditures.csv')"
   ]
  },
  {
   "cell_type": "code",
   "execution_count": null,
   "id": "fe3e5cd3",
   "metadata": {},
   "outputs": [],
   "source": [
    "df_gov.head()"
   ]
  },
  {
   "cell_type": "code",
   "execution_count": null,
   "id": "c2fc7e38",
   "metadata": {},
   "outputs": [],
   "source": [
    "df_gov = df_gov.rename(columns={c: c[1:] for c in df.columns if c.startswith('F')})\n"
   ]
  },
  {
   "cell_type": "code",
   "execution_count": null,
   "id": "5a40a899",
   "metadata": {},
   "outputs": [],
   "source": [
    "df_gov = df_gov.drop(['ObjectId', 'ISO2', 'ISO3', 'Source', 'CTS_Code', 'CTS_Name', 'CTS_Full_Descriptor'], axis = 1)"
   ]
  },
  {
   "cell_type": "code",
   "execution_count": null,
   "id": "f9056e33",
   "metadata": {},
   "outputs": [],
   "source": [
    "df_gov = df_gov.melt(id_vars = ['Country', 'Indicator', 'Unit']).rename({'variable': 'Year'}, axis=1 )\n"
   ]
  },
  {
   "cell_type": "code",
   "execution_count": null,
   "id": "698175d2",
   "metadata": {},
   "outputs": [],
   "source": [
    "df_gov_model = df_gov = df_gov[df_gov['Unit'] == 'Domestic Currency']"
   ]
  },
  {
   "cell_type": "code",
   "execution_count": null,
   "id": "45868435",
   "metadata": {},
   "outputs": [],
   "source": [
    "df_gov_model['Indicator'].unique()"
   ]
  },
  {
   "cell_type": "code",
   "execution_count": null,
   "id": "06dfe638",
   "metadata": {},
   "outputs": [],
   "source": [
    "df_gov_model = df_gov_model[(df_gov_model['Indicator'] == 'Expenditure on biodiversity & landscape protection') |\n",
    "                            (df_gov_model['Indicator'] == 'Expenditure on environment protection') | \n",
    "                            (df_gov_model['Indicator'] == 'Expenditure on pollution abatement')]"
   ]
  },
  {
   "cell_type": "code",
   "execution_count": null,
   "id": "7e4d8384",
   "metadata": {},
   "outputs": [],
   "source": [
    "df_gov_model.to_csv('../data/df_gov_model.csv')"
   ]
  },
  {
   "cell_type": "markdown",
   "id": "d430a5f3",
   "metadata": {},
   "source": [
    "# Cleaning df_dis"
   ]
  },
  {
   "cell_type": "code",
   "execution_count": null,
   "id": "d749dc44",
   "metadata": {},
   "outputs": [],
   "source": [
    "df_dis = pd.read_csv('../data/Climate-related_Disasters_Frequency.csv')"
   ]
  },
  {
   "cell_type": "code",
   "execution_count": null,
   "id": "4295b1b9",
   "metadata": {},
   "outputs": [],
   "source": [
    "df_dis.head()"
   ]
  },
  {
   "cell_type": "code",
   "execution_count": null,
   "id": "64e80914",
   "metadata": {},
   "outputs": [],
   "source": [
    "df_dis = df_dis.rename(columns={c: c[1:] for c in df_dis.columns if c.startswith('F')})\n"
   ]
  },
  {
   "cell_type": "code",
   "execution_count": null,
   "id": "eb60c491",
   "metadata": {},
   "outputs": [],
   "source": [
    "df_dis.head()"
   ]
  },
  {
   "cell_type": "code",
   "execution_count": null,
   "id": "5fb5fbed",
   "metadata": {},
   "outputs": [],
   "source": [
    "df_dis['Indicator'].unique()"
   ]
  },
  {
   "cell_type": "code",
   "execution_count": null,
   "id": "d8e4c58a",
   "metadata": {},
   "outputs": [],
   "source": [
    "df_dis = df_dis.drop(['ObjectId', 'ISO2', 'ISO3', 'Source', 'CTS_Code', 'CTS_Name', 'CTS_Full_Descriptor','Climate_Influence'], axis = 1)"
   ]
  },
  {
   "cell_type": "code",
   "execution_count": null,
   "id": "3bd6c474",
   "metadata": {},
   "outputs": [],
   "source": [
    "df_dis = df_dis.melt(id_vars = ['Country', 'Indicator', 'Unit']).rename({'variable': 'Year'}, axis=1 )\n"
   ]
  },
  {
   "cell_type": "code",
   "execution_count": null,
   "id": "306d4c04",
   "metadata": {},
   "outputs": [],
   "source": [
    "df_dis_model = df_dis[df_dis['Indicator'] == 'Climate related disasters frequency, Number of Disasters: TOTAL']"
   ]
  },
  {
   "cell_type": "code",
   "execution_count": null,
   "id": "5cd5c3bd",
   "metadata": {},
   "outputs": [],
   "source": [
    "df_dis_model.to_csv('../data/df_dis_model.csv')"
   ]
  },
  {
   "cell_type": "markdown",
   "id": "267853af",
   "metadata": {},
   "source": [
    "# Cleaning df_atmos"
   ]
  },
  {
   "cell_type": "code",
   "execution_count": null,
   "id": "bf816be4",
   "metadata": {},
   "outputs": [],
   "source": [
    "df_atmos = pd.read_csv('../data/Atmospheric_CO%E2%82%82_Concentrations.csv')"
   ]
  },
  {
   "cell_type": "code",
   "execution_count": null,
   "id": "74b9c1e1",
   "metadata": {
    "scrolled": true
   },
   "outputs": [],
   "source": [
    "df_atmos.head()"
   ]
  },
  {
   "cell_type": "code",
   "execution_count": null,
   "id": "13d50c5d",
   "metadata": {},
   "outputs": [],
   "source": [
    "# eliminar a partir del cuarto elemento en la columna \"Date\"\n",
    "df_atmos[\"Year\"] = df_atmos[\"Date\"].str[:4]\n",
    "\n",
    "# eliminar la columna \"Date\" original\n",
    "df_atmos = df_atmos.drop(\"Date\", axis=1)"
   ]
  },
  {
   "cell_type": "code",
   "execution_count": null,
   "id": "6f5b9caf",
   "metadata": {},
   "outputs": [],
   "source": []
  },
  {
   "cell_type": "code",
   "execution_count": null,
   "id": "b9201bff",
   "metadata": {},
   "outputs": [],
   "source": [
    "df_atmos = df_atmos.drop(['ObjectId', 'ISO2', 'ISO3', 'Source', 'CTS_Code', 'CTS_Name', 'CTS_Full_Descriptor', 'Country'], axis = 1)\n",
    "df_atmos = df_atmos.reindex(columns = ['Year', 'Indicator', 'Unit', 'Value'])"
   ]
  },
  {
   "cell_type": "code",
   "execution_count": null,
   "id": "1815d996",
   "metadata": {},
   "outputs": [],
   "source": [
    "df_atmos.head()"
   ]
  },
  {
   "cell_type": "code",
   "execution_count": null,
   "id": "ce04776b",
   "metadata": {},
   "outputs": [],
   "source": [
    "df_atmos_model = df_atmos.groupby(\"Year\").mean()"
   ]
  },
  {
   "cell_type": "code",
   "execution_count": null,
   "id": "0a8fee86",
   "metadata": {},
   "outputs": [],
   "source": [
    "df_atmos_model.head()"
   ]
  },
  {
   "cell_type": "code",
   "execution_count": null,
   "id": "7a0651df",
   "metadata": {},
   "outputs": [],
   "source": [
    "df_atmos_model.to_csv('../data/df_atmos_model.csv')"
   ]
  },
  {
   "cell_type": "code",
   "execution_count": null,
   "id": "ea5a3f17",
   "metadata": {},
   "outputs": [],
   "source": []
  },
  {
   "cell_type": "markdown",
   "id": "b316a34e",
   "metadata": {},
   "source": [
    "# Cleaning df_ener"
   ]
  },
  {
   "cell_type": "code",
   "execution_count": null,
   "id": "16fc8676",
   "metadata": {},
   "outputs": [],
   "source": []
  },
  {
   "cell_type": "code",
   "execution_count": null,
   "id": "fb48236a",
   "metadata": {},
   "outputs": [],
   "source": [
    "df_ener = pd.read_csv('../data/Energy_Transition.csv')"
   ]
  },
  {
   "cell_type": "code",
   "execution_count": null,
   "id": "6e4714b2",
   "metadata": {},
   "outputs": [],
   "source": [
    "df_ener['Energy_Type'].unique()"
   ]
  },
  {
   "cell_type": "code",
   "execution_count": null,
   "id": "027f5c7c",
   "metadata": {},
   "outputs": [],
   "source": [
    "df_ener.columns"
   ]
  },
  {
   "cell_type": "code",
   "execution_count": null,
   "id": "156bc5e6",
   "metadata": {},
   "outputs": [],
   "source": [
    "df_ener = df_ener.rename(columns={c: c[1:] for c in df_ener.columns if c.startswith('F')})"
   ]
  },
  {
   "cell_type": "code",
   "execution_count": null,
   "id": "b22d0f16",
   "metadata": {},
   "outputs": [],
   "source": [
    "df_ener = df_ener.drop(['ObjectId', 'ISO2', 'ISO3', 'Source', 'CTS_Code', 'Indicator', 'CTS_Name', 'CTS_Full_Descriptor'], axis = 1)\n",
    "df_ener = df_ener.melt(id_vars = ['Country', 'Technology', 'Unit', 'Energy_Type']).rename({'variable': 'Year'}, axis=1 )"
   ]
  },
  {
   "cell_type": "code",
   "execution_count": null,
   "id": "495e00f1",
   "metadata": {},
   "outputs": [],
   "source": [
    "df_ener = df_ener.reindex(columns = ['Year', 'Country', 'Technology', 'Energy_Type', 'Unit', 'value'])\n",
    "df_ener_model = df_ener"
   ]
  },
  {
   "cell_type": "code",
   "execution_count": null,
   "id": "e0fb33e1",
   "metadata": {},
   "outputs": [],
   "source": [
    "df_ener_model = df_ener_model[(df_ener_model['Technology'] == 'Fossil fuels' ) | (df_ener_model['Technology'] == 'Nuclear' ) | \n",
    "              (df_ener_model['Technology'] == 'Solar energy' ) | (df_ener_model['Technology'] == 'Wind energy' )]"
   ]
  },
  {
   "cell_type": "code",
   "execution_count": null,
   "id": "f72f649f",
   "metadata": {},
   "outputs": [],
   "source": [
    "df_ener_model.to_csv('../data/df_ener_model.csv')"
   ]
  },
  {
   "cell_type": "code",
   "execution_count": null,
   "id": "7eee94f3",
   "metadata": {},
   "outputs": [],
   "source": []
  },
  {
   "cell_type": "code",
   "execution_count": 104,
   "id": "55cff831",
   "metadata": {},
   "outputs": [
    {
     "data": {
      "text/html": [
       "<div>\n",
       "<style scoped>\n",
       "    .dataframe tbody tr th:only-of-type {\n",
       "        vertical-align: middle;\n",
       "    }\n",
       "\n",
       "    .dataframe tbody tr th {\n",
       "        vertical-align: top;\n",
       "    }\n",
       "\n",
       "    .dataframe thead th {\n",
       "        text-align: right;\n",
       "    }\n",
       "</style>\n",
       "<table border=\"1\" class=\"dataframe\">\n",
       "  <thead>\n",
       "    <tr style=\"text-align: right;\">\n",
       "      <th></th>\n",
       "      <th>Year</th>\n",
       "      <th>Country</th>\n",
       "      <th>Indicators</th>\n",
       "      <th>Values</th>\n",
       "    </tr>\n",
       "  </thead>\n",
       "  <tbody>\n",
       "    <tr>\n",
       "      <th>672</th>\n",
       "      <td>1960</td>\n",
       "      <td>World</td>\n",
       "      <td>Current health expenditure (% of GDP)</td>\n",
       "      <td>NaN</td>\n",
       "    </tr>\n",
       "    <tr>\n",
       "      <th>673</th>\n",
       "      <td>1960</td>\n",
       "      <td>World</td>\n",
       "      <td>Current health expenditure per capita (current...</td>\n",
       "      <td>NaN</td>\n",
       "    </tr>\n",
       "    <tr>\n",
       "      <th>674</th>\n",
       "      <td>1960</td>\n",
       "      <td>World</td>\n",
       "      <td>Domestic general government health expenditure...</td>\n",
       "      <td>NaN</td>\n",
       "    </tr>\n",
       "    <tr>\n",
       "      <th>675</th>\n",
       "      <td>1960</td>\n",
       "      <td>World</td>\n",
       "      <td>External health expenditure (% of current heal...</td>\n",
       "      <td>NaN</td>\n",
       "    </tr>\n",
       "    <tr>\n",
       "      <th>676</th>\n",
       "      <td>1960</td>\n",
       "      <td>World</td>\n",
       "      <td>Human capital index (HCI) (scale 0-1)</td>\n",
       "      <td>NaN</td>\n",
       "    </tr>\n",
       "  </tbody>\n",
       "</table>\n",
       "</div>"
      ],
      "text/plain": [
       "     Year Country                                         Indicators  Values\n",
       "672  1960   World              Current health expenditure (% of GDP)     NaN\n",
       "673  1960   World  Current health expenditure per capita (current...     NaN\n",
       "674  1960   World  Domestic general government health expenditure...     NaN\n",
       "675  1960   World  External health expenditure (% of current heal...     NaN\n",
       "676  1960   World              Human capital index (HCI) (scale 0-1)     NaN"
      ]
     },
     "execution_count": 104,
     "metadata": {},
     "output_type": "execute_result"
    }
   ],
   "source": [
    "df_health_indicators.head()"
   ]
  },
  {
   "cell_type": "code",
   "execution_count": null,
   "id": "75c9b261",
   "metadata": {},
   "outputs": [],
   "source": []
  },
  {
   "cell_type": "markdown",
   "id": "722c8855",
   "metadata": {},
   "source": [
    "# Converting for visualization"
   ]
  },
  {
   "cell_type": "code",
   "execution_count": 101,
   "id": "32f043d8",
   "metadata": {},
   "outputs": [],
   "source": [
    "# Pivoteando los datos\n",
    "df_pivoted_health = df_health_indicators.pivot(index=['Country', 'Year'],\n",
    "                                        columns='Indicators',\n",
    "                                        values='Values')\n",
    "\n",
    "# Reiniciando el índice\n",
    "df_pivoted_health = df_pivoted_health.reset_index()\n",
    "\n",
    "\n"
   ]
  },
  {
   "cell_type": "code",
   "execution_count": 102,
   "id": "e3eb19b7",
   "metadata": {},
   "outputs": [],
   "source": [
    "df_pivoted_health.to_csv('../data/df_pivoted_health.csv')"
   ]
  },
  {
   "cell_type": "code",
   "execution_count": 103,
   "id": "fa71b3fd",
   "metadata": {},
   "outputs": [
    {
     "data": {
      "text/html": [
       "<div>\n",
       "<style scoped>\n",
       "    .dataframe tbody tr th:only-of-type {\n",
       "        vertical-align: middle;\n",
       "    }\n",
       "\n",
       "    .dataframe tbody tr th {\n",
       "        vertical-align: top;\n",
       "    }\n",
       "\n",
       "    .dataframe thead th {\n",
       "        text-align: right;\n",
       "    }\n",
       "</style>\n",
       "<table border=\"1\" class=\"dataframe\">\n",
       "  <thead>\n",
       "    <tr style=\"text-align: right;\">\n",
       "      <th>Indicators</th>\n",
       "      <th>Country</th>\n",
       "      <th>Year</th>\n",
       "      <th>Current health expenditure (% of GDP)</th>\n",
       "      <th>Current health expenditure per capita (current US$)</th>\n",
       "      <th>Domestic general government health expenditure (% of GDP)</th>\n",
       "      <th>External health expenditure (% of current health expenditure)</th>\n",
       "      <th>Human capital index (HCI) (scale 0-1)</th>\n",
       "      <th>Mortality rate attributed to household and ambient air pollution (per 100,000 population)</th>\n",
       "      <th>Mortality rate attributed to unsafe water, unsafe sanitation and lack of hygiene (per 100,000 population)</th>\n",
       "      <th>Number of surgical procedures (per 100,000 population)</th>\n",
       "      <th>People using at least basic drinking water services (% of population)</th>\n",
       "      <th>People using safely managed sanitation services (% of population)</th>\n",
       "      <th>Prevalence of overweight (% of adults)</th>\n",
       "      <th>Suicide mortality rate (per 100,000 population)</th>\n",
       "      <th>Total alcohol consumption per capita (liters of pure alcohol, projected estimates, 15+ years of age)</th>\n",
       "      <th>Treatment for hypertension (% of adults ages 30-79 with hypertension)</th>\n",
       "    </tr>\n",
       "  </thead>\n",
       "  <tbody>\n",
       "    <tr>\n",
       "      <th>0</th>\n",
       "      <td>Afghanistan</td>\n",
       "      <td>1960</td>\n",
       "      <td>NaN</td>\n",
       "      <td>NaN</td>\n",
       "      <td>NaN</td>\n",
       "      <td>NaN</td>\n",
       "      <td>NaN</td>\n",
       "      <td>NaN</td>\n",
       "      <td>NaN</td>\n",
       "      <td>NaN</td>\n",
       "      <td>NaN</td>\n",
       "      <td>NaN</td>\n",
       "      <td>NaN</td>\n",
       "      <td>NaN</td>\n",
       "      <td>NaN</td>\n",
       "      <td>NaN</td>\n",
       "    </tr>\n",
       "    <tr>\n",
       "      <th>1</th>\n",
       "      <td>Afghanistan</td>\n",
       "      <td>1961</td>\n",
       "      <td>NaN</td>\n",
       "      <td>NaN</td>\n",
       "      <td>NaN</td>\n",
       "      <td>NaN</td>\n",
       "      <td>NaN</td>\n",
       "      <td>NaN</td>\n",
       "      <td>NaN</td>\n",
       "      <td>NaN</td>\n",
       "      <td>NaN</td>\n",
       "      <td>NaN</td>\n",
       "      <td>NaN</td>\n",
       "      <td>NaN</td>\n",
       "      <td>NaN</td>\n",
       "      <td>NaN</td>\n",
       "    </tr>\n",
       "    <tr>\n",
       "      <th>2</th>\n",
       "      <td>Afghanistan</td>\n",
       "      <td>1962</td>\n",
       "      <td>NaN</td>\n",
       "      <td>NaN</td>\n",
       "      <td>NaN</td>\n",
       "      <td>NaN</td>\n",
       "      <td>NaN</td>\n",
       "      <td>NaN</td>\n",
       "      <td>NaN</td>\n",
       "      <td>NaN</td>\n",
       "      <td>NaN</td>\n",
       "      <td>NaN</td>\n",
       "      <td>NaN</td>\n",
       "      <td>NaN</td>\n",
       "      <td>NaN</td>\n",
       "      <td>NaN</td>\n",
       "    </tr>\n",
       "    <tr>\n",
       "      <th>3</th>\n",
       "      <td>Afghanistan</td>\n",
       "      <td>1963</td>\n",
       "      <td>NaN</td>\n",
       "      <td>NaN</td>\n",
       "      <td>NaN</td>\n",
       "      <td>NaN</td>\n",
       "      <td>NaN</td>\n",
       "      <td>NaN</td>\n",
       "      <td>NaN</td>\n",
       "      <td>NaN</td>\n",
       "      <td>NaN</td>\n",
       "      <td>NaN</td>\n",
       "      <td>NaN</td>\n",
       "      <td>NaN</td>\n",
       "      <td>NaN</td>\n",
       "      <td>NaN</td>\n",
       "    </tr>\n",
       "    <tr>\n",
       "      <th>4</th>\n",
       "      <td>Afghanistan</td>\n",
       "      <td>1964</td>\n",
       "      <td>NaN</td>\n",
       "      <td>NaN</td>\n",
       "      <td>NaN</td>\n",
       "      <td>NaN</td>\n",
       "      <td>NaN</td>\n",
       "      <td>NaN</td>\n",
       "      <td>NaN</td>\n",
       "      <td>NaN</td>\n",
       "      <td>NaN</td>\n",
       "      <td>NaN</td>\n",
       "      <td>NaN</td>\n",
       "      <td>NaN</td>\n",
       "      <td>NaN</td>\n",
       "      <td>NaN</td>\n",
       "    </tr>\n",
       "  </tbody>\n",
       "</table>\n",
       "</div>"
      ],
      "text/plain": [
       "Indicators      Country  Year  Current health expenditure (% of GDP)  \\\n",
       "0           Afghanistan  1960                                    NaN   \n",
       "1           Afghanistan  1961                                    NaN   \n",
       "2           Afghanistan  1962                                    NaN   \n",
       "3           Afghanistan  1963                                    NaN   \n",
       "4           Afghanistan  1964                                    NaN   \n",
       "\n",
       "Indicators  Current health expenditure per capita (current US$)  \\\n",
       "0                                                         NaN     \n",
       "1                                                         NaN     \n",
       "2                                                         NaN     \n",
       "3                                                         NaN     \n",
       "4                                                         NaN     \n",
       "\n",
       "Indicators  Domestic general government health expenditure (% of GDP)  \\\n",
       "0                                                         NaN           \n",
       "1                                                         NaN           \n",
       "2                                                         NaN           \n",
       "3                                                         NaN           \n",
       "4                                                         NaN           \n",
       "\n",
       "Indicators  External health expenditure (% of current health expenditure)  \\\n",
       "0                                                         NaN               \n",
       "1                                                         NaN               \n",
       "2                                                         NaN               \n",
       "3                                                         NaN               \n",
       "4                                                         NaN               \n",
       "\n",
       "Indicators  Human capital index (HCI) (scale 0-1)  \\\n",
       "0                                             NaN   \n",
       "1                                             NaN   \n",
       "2                                             NaN   \n",
       "3                                             NaN   \n",
       "4                                             NaN   \n",
       "\n",
       "Indicators  Mortality rate attributed to household and ambient air pollution (per 100,000 population)  \\\n",
       "0                                                         NaN                                           \n",
       "1                                                         NaN                                           \n",
       "2                                                         NaN                                           \n",
       "3                                                         NaN                                           \n",
       "4                                                         NaN                                           \n",
       "\n",
       "Indicators  Mortality rate attributed to unsafe water, unsafe sanitation and lack of hygiene (per 100,000 population)  \\\n",
       "0                                                         NaN                                                           \n",
       "1                                                         NaN                                                           \n",
       "2                                                         NaN                                                           \n",
       "3                                                         NaN                                                           \n",
       "4                                                         NaN                                                           \n",
       "\n",
       "Indicators  Number of surgical procedures (per 100,000 population)  \\\n",
       "0                                                         NaN        \n",
       "1                                                         NaN        \n",
       "2                                                         NaN        \n",
       "3                                                         NaN        \n",
       "4                                                         NaN        \n",
       "\n",
       "Indicators  People using at least basic drinking water services (% of population)  \\\n",
       "0                                                         NaN                       \n",
       "1                                                         NaN                       \n",
       "2                                                         NaN                       \n",
       "3                                                         NaN                       \n",
       "4                                                         NaN                       \n",
       "\n",
       "Indicators  People using safely managed sanitation services (% of population)  \\\n",
       "0                                                         NaN                   \n",
       "1                                                         NaN                   \n",
       "2                                                         NaN                   \n",
       "3                                                         NaN                   \n",
       "4                                                         NaN                   \n",
       "\n",
       "Indicators  Prevalence of overweight (% of adults)  \\\n",
       "0                                              NaN   \n",
       "1                                              NaN   \n",
       "2                                              NaN   \n",
       "3                                              NaN   \n",
       "4                                              NaN   \n",
       "\n",
       "Indicators  Suicide mortality rate (per 100,000 population)  \\\n",
       "0                                                       NaN   \n",
       "1                                                       NaN   \n",
       "2                                                       NaN   \n",
       "3                                                       NaN   \n",
       "4                                                       NaN   \n",
       "\n",
       "Indicators  Total alcohol consumption per capita (liters of pure alcohol, projected estimates, 15+ years of age)  \\\n",
       "0                                                         NaN                                                      \n",
       "1                                                         NaN                                                      \n",
       "2                                                         NaN                                                      \n",
       "3                                                         NaN                                                      \n",
       "4                                                         NaN                                                      \n",
       "\n",
       "Indicators  Treatment for hypertension (% of adults ages 30-79 with hypertension)  \n",
       "0                                                         NaN                      \n",
       "1                                                         NaN                      \n",
       "2                                                         NaN                      \n",
       "3                                                         NaN                      \n",
       "4                                                         NaN                      "
      ]
     },
     "execution_count": 103,
     "metadata": {},
     "output_type": "execute_result"
    }
   ],
   "source": [
    "df_pivoted_health.head()"
   ]
  },
  {
   "cell_type": "code",
   "execution_count": null,
   "id": "40eb789e",
   "metadata": {},
   "outputs": [],
   "source": [
    "df_pivoted_health[(df_pivoted_health['Country'] == 'Spain') & (df_pivoted_health['Prevalence of overweight (% of adults)']) ]"
   ]
  },
  {
   "cell_type": "code",
   "execution_count": null,
   "id": "18664426",
   "metadata": {},
   "outputs": [],
   "source": [
    "# Pivoteando los datos\n",
    "df_pivoted_population = df_population.pivot(index=['Country', 'Year'],\n",
    "                                        columns='Indicators',\n",
    "                                        values='Values')\n",
    "\n",
    "# Reiniciando el índice\n",
    "df_pivoted_population = df_pivoted_population.reset_index()\n"
   ]
  },
  {
   "cell_type": "code",
   "execution_count": null,
   "id": "1879c6ed",
   "metadata": {},
   "outputs": [],
   "source": [
    "df_pivoted_population.to_csv('../data/df_pivoted_population.csv')"
   ]
  },
  {
   "cell_type": "code",
   "execution_count": 76,
   "id": "05997786",
   "metadata": {},
   "outputs": [
    {
     "data": {
      "text/html": [
       "<div>\n",
       "<style scoped>\n",
       "    .dataframe tbody tr th:only-of-type {\n",
       "        vertical-align: middle;\n",
       "    }\n",
       "\n",
       "    .dataframe tbody tr th {\n",
       "        vertical-align: top;\n",
       "    }\n",
       "\n",
       "    .dataframe thead th {\n",
       "        text-align: right;\n",
       "    }\n",
       "</style>\n",
       "<table border=\"1\" class=\"dataframe\">\n",
       "  <thead>\n",
       "    <tr style=\"text-align: right;\">\n",
       "      <th></th>\n",
       "      <th>Year</th>\n",
       "      <th>Country</th>\n",
       "      <th>Indicators</th>\n",
       "      <th>Value</th>\n",
       "    </tr>\n",
       "  </thead>\n",
       "  <tbody>\n",
       "    <tr>\n",
       "      <th>0</th>\n",
       "      <td>1980</td>\n",
       "      <td>Afghanistan</td>\n",
       "      <td>Agricultural land</td>\n",
       "      <td>58.34 %</td>\n",
       "    </tr>\n",
       "    <tr>\n",
       "      <th>1</th>\n",
       "      <td>1981</td>\n",
       "      <td>Afghanistan</td>\n",
       "      <td>Agricultural land</td>\n",
       "      <td>58.34 %</td>\n",
       "    </tr>\n",
       "    <tr>\n",
       "      <th>2</th>\n",
       "      <td>1982</td>\n",
       "      <td>Afghanistan</td>\n",
       "      <td>Agricultural land</td>\n",
       "      <td>58.34 %</td>\n",
       "    </tr>\n",
       "    <tr>\n",
       "      <th>3</th>\n",
       "      <td>1983</td>\n",
       "      <td>Afghanistan</td>\n",
       "      <td>Agricultural land</td>\n",
       "      <td>58.34 %</td>\n",
       "    </tr>\n",
       "    <tr>\n",
       "      <th>4</th>\n",
       "      <td>1984</td>\n",
       "      <td>Afghanistan</td>\n",
       "      <td>Agricultural land</td>\n",
       "      <td>58.34 %</td>\n",
       "    </tr>\n",
       "  </tbody>\n",
       "</table>\n",
       "</div>"
      ],
      "text/plain": [
       "   Year      Country         Indicators    Value\n",
       "0  1980  Afghanistan  Agricultural land  58.34 %\n",
       "1  1981  Afghanistan  Agricultural land  58.34 %\n",
       "2  1982  Afghanistan  Agricultural land  58.34 %\n",
       "3  1983  Afghanistan  Agricultural land  58.34 %\n",
       "4  1984  Afghanistan  Agricultural land  58.34 %"
      ]
     },
     "execution_count": 76,
     "metadata": {},
     "output_type": "execute_result"
    }
   ],
   "source": [
    "df_agri.head()"
   ]
  },
  {
   "cell_type": "code",
   "execution_count": null,
   "id": "6ea62327",
   "metadata": {},
   "outputs": [],
   "source": []
  }
 ],
 "metadata": {
  "kernelspec": {
   "display_name": "Python 3 (ipykernel)",
   "language": "python",
   "name": "python3"
  },
  "language_info": {
   "codemirror_mode": {
    "name": "ipython",
    "version": 3
   },
   "file_extension": ".py",
   "mimetype": "text/x-python",
   "name": "python",
   "nbconvert_exporter": "python",
   "pygments_lexer": "ipython3",
   "version": "3.9.7"
  }
 },
 "nbformat": 4,
 "nbformat_minor": 5
}
